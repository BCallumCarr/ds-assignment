{
 "cells": [
  {
   "cell_type": "code",
   "execution_count": 1,
   "id": "6d856b76",
   "metadata": {},
   "outputs": [],
   "source": [
    "#!/usr/bin/env\n",
    "#\n",
    "# author: Brad Carruthers\n",
    "# author_mail: brad@securewealth.co.za"
   ]
  },
  {
   "cell_type": "code",
   "execution_count": 2,
   "id": "9d6ac053",
   "metadata": {},
   "outputs": [],
   "source": [
    "import logging\n",
    "import pandas as pd\n",
    "from datetime import date\n",
    "\n",
    "logging.basicConfig(level=logging.INFO, filename='notebook.log', filemode='w', format='%(name)s - %(levelname)s - %(message)s')"
   ]
  },
  {
   "cell_type": "markdown",
   "id": "fa1c1e84",
   "metadata": {},
   "source": [
    "## Block A"
   ]
  },
  {
   "cell_type": "code",
   "execution_count": 3,
   "id": "ef20638a",
   "metadata": {},
   "outputs": [],
   "source": [
    "logging.info(\"Reading in activities.csv\")\n",
    "df_acts = pd.read_csv(\"../data/activities.csv\", sep=\",\")\n",
    "logging.info(f\"There are {df_acts.shape[1]-1} variables and one key in activities.csv\")\n",
    "logging.info(f\"There are {df_acts.shape[0]} observations in activities.csv\")"
   ]
  },
  {
   "cell_type": "code",
   "execution_count": 4,
   "id": "38ae6399",
   "metadata": {},
   "outputs": [
    {
     "data": {
      "text/html": [
       "<div>\n",
       "<style scoped>\n",
       "    .dataframe tbody tr th:only-of-type {\n",
       "        vertical-align: middle;\n",
       "    }\n",
       "\n",
       "    .dataframe tbody tr th {\n",
       "        vertical-align: top;\n",
       "    }\n",
       "\n",
       "    .dataframe thead th {\n",
       "        text-align: right;\n",
       "    }\n",
       "</style>\n",
       "<table border=\"1\" class=\"dataframe\">\n",
       "  <thead>\n",
       "    <tr style=\"text-align: right;\">\n",
       "      <th></th>\n",
       "      <th>UserId</th>\n",
       "      <th>Date</th>\n",
       "      <th>Revenue</th>\n",
       "    </tr>\n",
       "  </thead>\n",
       "  <tbody>\n",
       "    <tr>\n",
       "      <th>0</th>\n",
       "      <td>1326865</td>\n",
       "      <td>2017-02-19</td>\n",
       "      <td>17.05</td>\n",
       "    </tr>\n",
       "    <tr>\n",
       "      <th>1</th>\n",
       "      <td>1326865</td>\n",
       "      <td>2017-02-28</td>\n",
       "      <td>17.05</td>\n",
       "    </tr>\n",
       "    <tr>\n",
       "      <th>2</th>\n",
       "      <td>1326865</td>\n",
       "      <td>2017-03-06</td>\n",
       "      <td>17.16</td>\n",
       "    </tr>\n",
       "    <tr>\n",
       "      <th>3</th>\n",
       "      <td>1326865</td>\n",
       "      <td>2017-03-07</td>\n",
       "      <td>17.16</td>\n",
       "    </tr>\n",
       "    <tr>\n",
       "      <th>4</th>\n",
       "      <td>1326865</td>\n",
       "      <td>2017-03-08</td>\n",
       "      <td>17.16</td>\n",
       "    </tr>\n",
       "    <tr>\n",
       "      <th>...</th>\n",
       "      <td>...</td>\n",
       "      <td>...</td>\n",
       "      <td>...</td>\n",
       "    </tr>\n",
       "    <tr>\n",
       "      <th>22637</th>\n",
       "      <td>3347222</td>\n",
       "      <td>2017-05-15</td>\n",
       "      <td>57.81</td>\n",
       "    </tr>\n",
       "    <tr>\n",
       "      <th>22638</th>\n",
       "      <td>3347251</td>\n",
       "      <td>2017-04-03</td>\n",
       "      <td>30.00</td>\n",
       "    </tr>\n",
       "    <tr>\n",
       "      <th>22639</th>\n",
       "      <td>3347333</td>\n",
       "      <td>2017-01-27</td>\n",
       "      <td>30.00</td>\n",
       "    </tr>\n",
       "    <tr>\n",
       "      <th>22640</th>\n",
       "      <td>3347367</td>\n",
       "      <td>2017-04-04</td>\n",
       "      <td>17.05</td>\n",
       "    </tr>\n",
       "    <tr>\n",
       "      <th>22641</th>\n",
       "      <td>3347450</td>\n",
       "      <td>2017-04-21</td>\n",
       "      <td>42.63</td>\n",
       "    </tr>\n",
       "  </tbody>\n",
       "</table>\n",
       "<p>22642 rows × 3 columns</p>\n",
       "</div>"
      ],
      "text/plain": [
       "        UserId        Date  Revenue\n",
       "0      1326865  2017-02-19    17.05\n",
       "1      1326865  2017-02-28    17.05\n",
       "2      1326865  2017-03-06    17.16\n",
       "3      1326865  2017-03-07    17.16\n",
       "4      1326865  2017-03-08    17.16\n",
       "...        ...         ...      ...\n",
       "22637  3347222  2017-05-15    57.81\n",
       "22638  3347251  2017-04-03    30.00\n",
       "22639  3347333  2017-01-27    30.00\n",
       "22640  3347367  2017-04-04    17.05\n",
       "22641  3347450  2017-04-21    42.63\n",
       "\n",
       "[22642 rows x 3 columns]"
      ]
     },
     "execution_count": 4,
     "metadata": {},
     "output_type": "execute_result"
    }
   ],
   "source": [
    "df_acts"
   ]
  },
  {
   "cell_type": "code",
   "execution_count": 5,
   "id": "0124f4c6",
   "metadata": {},
   "outputs": [],
   "source": [
    "logging.info(\"Reading in users.csv\")\n",
    "df_users = pd.read_csv(\"../data/users.csv\", sep=\",\")\n",
    "logging.info(f\"There are {df_users.shape[1]-1} variables and one key in users.csv\")\n",
    "logging.info(f\"There are {df_users.shape[0]} observations in users.csv\")"
   ]
  },
  {
   "cell_type": "code",
   "execution_count": 6,
   "id": "41d5dccb",
   "metadata": {},
   "outputs": [
    {
     "data": {
      "text/html": [
       "<div>\n",
       "<style scoped>\n",
       "    .dataframe tbody tr th:only-of-type {\n",
       "        vertical-align: middle;\n",
       "    }\n",
       "\n",
       "    .dataframe tbody tr th {\n",
       "        vertical-align: top;\n",
       "    }\n",
       "\n",
       "    .dataframe thead th {\n",
       "        text-align: right;\n",
       "    }\n",
       "</style>\n",
       "<table border=\"1\" class=\"dataframe\">\n",
       "  <thead>\n",
       "    <tr style=\"text-align: right;\">\n",
       "      <th></th>\n",
       "      <th>UserId</th>\n",
       "      <th>Country</th>\n",
       "      <th>DOB</th>\n",
       "      <th>Gender</th>\n",
       "      <th>RegDate</th>\n",
       "    </tr>\n",
       "  </thead>\n",
       "  <tbody>\n",
       "    <tr>\n",
       "      <th>0</th>\n",
       "      <td>1326865</td>\n",
       "      <td>DE</td>\n",
       "      <td>1988-05-04</td>\n",
       "      <td>M</td>\n",
       "      <td>2016-03-24</td>\n",
       "    </tr>\n",
       "    <tr>\n",
       "      <th>1</th>\n",
       "      <td>1333278</td>\n",
       "      <td>GB</td>\n",
       "      <td>1971-07-21</td>\n",
       "      <td>M</td>\n",
       "      <td>2016-02-09</td>\n",
       "    </tr>\n",
       "    <tr>\n",
       "      <th>2</th>\n",
       "      <td>1336967</td>\n",
       "      <td>GB</td>\n",
       "      <td>1983-07-31</td>\n",
       "      <td>M</td>\n",
       "      <td>2016-01-29</td>\n",
       "    </tr>\n",
       "    <tr>\n",
       "      <th>3</th>\n",
       "      <td>1339784</td>\n",
       "      <td>Other</td>\n",
       "      <td>1976-09-21</td>\n",
       "      <td>M</td>\n",
       "      <td>2016-01-21</td>\n",
       "    </tr>\n",
       "    <tr>\n",
       "      <th>4</th>\n",
       "      <td>1339829</td>\n",
       "      <td>Other</td>\n",
       "      <td>1981-05-03</td>\n",
       "      <td>F</td>\n",
       "      <td>2016-04-12</td>\n",
       "    </tr>\n",
       "    <tr>\n",
       "      <th>...</th>\n",
       "      <td>...</td>\n",
       "      <td>...</td>\n",
       "      <td>...</td>\n",
       "      <td>...</td>\n",
       "      <td>...</td>\n",
       "    </tr>\n",
       "    <tr>\n",
       "      <th>5802</th>\n",
       "      <td>3347222</td>\n",
       "      <td>FR</td>\n",
       "      <td>1967-05-25</td>\n",
       "      <td></td>\n",
       "      <td>2017-03-22</td>\n",
       "    </tr>\n",
       "    <tr>\n",
       "      <th>5803</th>\n",
       "      <td>3347251</td>\n",
       "      <td>GB</td>\n",
       "      <td>1981-06-11</td>\n",
       "      <td>F</td>\n",
       "      <td>2017-04-03</td>\n",
       "    </tr>\n",
       "    <tr>\n",
       "      <th>5804</th>\n",
       "      <td>3347333</td>\n",
       "      <td>GB</td>\n",
       "      <td>1987-11-22</td>\n",
       "      <td></td>\n",
       "      <td>2017-01-27</td>\n",
       "    </tr>\n",
       "    <tr>\n",
       "      <th>5805</th>\n",
       "      <td>3347367</td>\n",
       "      <td>US</td>\n",
       "      <td>1995-08-09</td>\n",
       "      <td>F</td>\n",
       "      <td>2017-04-04</td>\n",
       "    </tr>\n",
       "    <tr>\n",
       "      <th>5806</th>\n",
       "      <td>3347450</td>\n",
       "      <td>US</td>\n",
       "      <td>1994-07-30</td>\n",
       "      <td>M</td>\n",
       "      <td>2017-04-21</td>\n",
       "    </tr>\n",
       "  </tbody>\n",
       "</table>\n",
       "<p>5807 rows × 5 columns</p>\n",
       "</div>"
      ],
      "text/plain": [
       "       UserId Country         DOB Gender     RegDate\n",
       "0     1326865      DE  1988-05-04      M  2016-03-24\n",
       "1     1333278      GB  1971-07-21      M  2016-02-09\n",
       "2     1336967      GB  1983-07-31      M  2016-01-29\n",
       "3     1339784   Other  1976-09-21      M  2016-01-21\n",
       "4     1339829   Other  1981-05-03      F  2016-04-12\n",
       "...       ...     ...         ...    ...         ...\n",
       "5802  3347222      FR  1967-05-25         2017-03-22\n",
       "5803  3347251      GB  1981-06-11      F  2017-04-03\n",
       "5804  3347333      GB  1987-11-22         2017-01-27\n",
       "5805  3347367      US  1995-08-09      F  2017-04-04\n",
       "5806  3347450      US  1994-07-30      M  2017-04-21\n",
       "\n",
       "[5807 rows x 5 columns]"
      ]
     },
     "execution_count": 6,
     "metadata": {},
     "output_type": "execute_result"
    }
   ],
   "source": [
    "df_users"
   ]
  },
  {
   "cell_type": "code",
   "execution_count": 7,
   "id": "6eb52d07",
   "metadata": {},
   "outputs": [
    {
     "data": {
      "text/plain": [
       "array(['M', 'F', ' '], dtype=object)"
      ]
     },
     "execution_count": 7,
     "metadata": {},
     "output_type": "execute_result"
    }
   ],
   "source": [
    "df_users[\"Gender\"].unique()"
   ]
  },
  {
   "cell_type": "code",
   "execution_count": 8,
   "id": "33812af4",
   "metadata": {},
   "outputs": [],
   "source": [
    "male_counts = df_users[\"Gender\"].value_counts()[\"M\"]\n",
    "female_counts = df_users[\"Gender\"].value_counts()[\"F\"]\n",
    "missing_gender = df_users[\"Gender\"].value_counts()[\" \"]"
   ]
  },
  {
   "cell_type": "code",
   "execution_count": 9,
   "id": "0f84349e",
   "metadata": {},
   "outputs": [],
   "source": [
    "logging.info(f\"There are {male_counts} male observations in users.csv\")\n",
    "logging.info(f\"There are {female_counts} female observations in users.csv\")\n",
    "logging.info(f\"There are {missing_gender} missing gender observations in users.csv\")"
   ]
  },
  {
   "cell_type": "code",
   "execution_count": 10,
   "id": "3b906afd",
   "metadata": {},
   "outputs": [],
   "source": [
    "# impute Male for missing Genders\n",
    "bool_missing_gender = df_users.loc[:,\"Gender\"] == \" \"\n",
    "\n",
    "df_users.loc[bool_missing_gender,\"Gender\"] = \"M\""
   ]
  },
  {
   "cell_type": "code",
   "execution_count": 11,
   "id": "403a81f8",
   "metadata": {},
   "outputs": [],
   "source": [
    "df_acts_users = pd.merge(\n",
    "    left=df_acts,\n",
    "    right=df_users,\n",
    "    left_on=\"UserId\",\n",
    "    right_on=\"UserId\",\n",
    "    how=\"left\"\n",
    ")"
   ]
  },
  {
   "cell_type": "code",
   "execution_count": 12,
   "id": "96ffd9d5",
   "metadata": {},
   "outputs": [
    {
     "data": {
      "text/html": [
       "<div>\n",
       "<style scoped>\n",
       "    .dataframe tbody tr th:only-of-type {\n",
       "        vertical-align: middle;\n",
       "    }\n",
       "\n",
       "    .dataframe tbody tr th {\n",
       "        vertical-align: top;\n",
       "    }\n",
       "\n",
       "    .dataframe thead th {\n",
       "        text-align: right;\n",
       "    }\n",
       "</style>\n",
       "<table border=\"1\" class=\"dataframe\">\n",
       "  <thead>\n",
       "    <tr style=\"text-align: right;\">\n",
       "      <th></th>\n",
       "      <th>UserId</th>\n",
       "      <th>Date</th>\n",
       "      <th>Revenue</th>\n",
       "      <th>Country</th>\n",
       "      <th>DOB</th>\n",
       "      <th>Gender</th>\n",
       "      <th>RegDate</th>\n",
       "    </tr>\n",
       "  </thead>\n",
       "  <tbody>\n",
       "    <tr>\n",
       "      <th>0</th>\n",
       "      <td>1326865</td>\n",
       "      <td>2017-02-19</td>\n",
       "      <td>17.05</td>\n",
       "      <td>DE</td>\n",
       "      <td>1988-05-04</td>\n",
       "      <td>M</td>\n",
       "      <td>2016-03-24</td>\n",
       "    </tr>\n",
       "    <tr>\n",
       "      <th>1</th>\n",
       "      <td>1326865</td>\n",
       "      <td>2017-02-28</td>\n",
       "      <td>17.05</td>\n",
       "      <td>DE</td>\n",
       "      <td>1988-05-04</td>\n",
       "      <td>M</td>\n",
       "      <td>2016-03-24</td>\n",
       "    </tr>\n",
       "    <tr>\n",
       "      <th>2</th>\n",
       "      <td>1326865</td>\n",
       "      <td>2017-03-06</td>\n",
       "      <td>17.16</td>\n",
       "      <td>DE</td>\n",
       "      <td>1988-05-04</td>\n",
       "      <td>M</td>\n",
       "      <td>2016-03-24</td>\n",
       "    </tr>\n",
       "    <tr>\n",
       "      <th>3</th>\n",
       "      <td>1326865</td>\n",
       "      <td>2017-03-07</td>\n",
       "      <td>17.16</td>\n",
       "      <td>DE</td>\n",
       "      <td>1988-05-04</td>\n",
       "      <td>M</td>\n",
       "      <td>2016-03-24</td>\n",
       "    </tr>\n",
       "    <tr>\n",
       "      <th>4</th>\n",
       "      <td>1326865</td>\n",
       "      <td>2017-03-08</td>\n",
       "      <td>17.16</td>\n",
       "      <td>DE</td>\n",
       "      <td>1988-05-04</td>\n",
       "      <td>M</td>\n",
       "      <td>2016-03-24</td>\n",
       "    </tr>\n",
       "    <tr>\n",
       "      <th>...</th>\n",
       "      <td>...</td>\n",
       "      <td>...</td>\n",
       "      <td>...</td>\n",
       "      <td>...</td>\n",
       "      <td>...</td>\n",
       "      <td>...</td>\n",
       "      <td>...</td>\n",
       "    </tr>\n",
       "    <tr>\n",
       "      <th>22637</th>\n",
       "      <td>3347222</td>\n",
       "      <td>2017-05-15</td>\n",
       "      <td>57.81</td>\n",
       "      <td>FR</td>\n",
       "      <td>1967-05-25</td>\n",
       "      <td>M</td>\n",
       "      <td>2017-03-22</td>\n",
       "    </tr>\n",
       "    <tr>\n",
       "      <th>22638</th>\n",
       "      <td>3347251</td>\n",
       "      <td>2017-04-03</td>\n",
       "      <td>30.00</td>\n",
       "      <td>GB</td>\n",
       "      <td>1981-06-11</td>\n",
       "      <td>F</td>\n",
       "      <td>2017-04-03</td>\n",
       "    </tr>\n",
       "    <tr>\n",
       "      <th>22639</th>\n",
       "      <td>3347333</td>\n",
       "      <td>2017-01-27</td>\n",
       "      <td>30.00</td>\n",
       "      <td>GB</td>\n",
       "      <td>1987-11-22</td>\n",
       "      <td>M</td>\n",
       "      <td>2017-01-27</td>\n",
       "    </tr>\n",
       "    <tr>\n",
       "      <th>22640</th>\n",
       "      <td>3347367</td>\n",
       "      <td>2017-04-04</td>\n",
       "      <td>17.05</td>\n",
       "      <td>US</td>\n",
       "      <td>1995-08-09</td>\n",
       "      <td>F</td>\n",
       "      <td>2017-04-04</td>\n",
       "    </tr>\n",
       "    <tr>\n",
       "      <th>22641</th>\n",
       "      <td>3347450</td>\n",
       "      <td>2017-04-21</td>\n",
       "      <td>42.63</td>\n",
       "      <td>US</td>\n",
       "      <td>1994-07-30</td>\n",
       "      <td>M</td>\n",
       "      <td>2017-04-21</td>\n",
       "    </tr>\n",
       "  </tbody>\n",
       "</table>\n",
       "<p>22642 rows × 7 columns</p>\n",
       "</div>"
      ],
      "text/plain": [
       "        UserId        Date  Revenue Country         DOB Gender     RegDate\n",
       "0      1326865  2017-02-19    17.05      DE  1988-05-04      M  2016-03-24\n",
       "1      1326865  2017-02-28    17.05      DE  1988-05-04      M  2016-03-24\n",
       "2      1326865  2017-03-06    17.16      DE  1988-05-04      M  2016-03-24\n",
       "3      1326865  2017-03-07    17.16      DE  1988-05-04      M  2016-03-24\n",
       "4      1326865  2017-03-08    17.16      DE  1988-05-04      M  2016-03-24\n",
       "...        ...         ...      ...     ...         ...    ...         ...\n",
       "22637  3347222  2017-05-15    57.81      FR  1967-05-25      M  2017-03-22\n",
       "22638  3347251  2017-04-03    30.00      GB  1981-06-11      F  2017-04-03\n",
       "22639  3347333  2017-01-27    30.00      GB  1987-11-22      M  2017-01-27\n",
       "22640  3347367  2017-04-04    17.05      US  1995-08-09      F  2017-04-04\n",
       "22641  3347450  2017-04-21    42.63      US  1994-07-30      M  2017-04-21\n",
       "\n",
       "[22642 rows x 7 columns]"
      ]
     },
     "execution_count": 12,
     "metadata": {},
     "output_type": "execute_result"
    }
   ],
   "source": [
    "df_acts_users"
   ]
  },
  {
   "cell_type": "code",
   "execution_count": 13,
   "id": "039976f6",
   "metadata": {},
   "outputs": [
    {
     "data": {
      "text/plain": [
       "UserId       int64\n",
       "Date        object\n",
       "Revenue    float64\n",
       "Country     object\n",
       "DOB         object\n",
       "Gender      object\n",
       "RegDate     object\n",
       "dtype: object"
      ]
     },
     "execution_count": 13,
     "metadata": {},
     "output_type": "execute_result"
    }
   ],
   "source": [
    "df_acts_users.dtypes"
   ]
  },
  {
   "cell_type": "code",
   "execution_count": 14,
   "id": "74bf9ef6",
   "metadata": {},
   "outputs": [],
   "source": [
    "# convert date cols to pd datetime\n",
    "df_acts_users[\"Date\"] = pd.to_datetime(df_acts_users[\"Date\"], format=\"%Y-%m-%d\")\n",
    "df_acts_users[\"DOB\"] = pd.to_datetime(df_acts_users[\"DOB\"], format=\"%Y-%m-%d\")\n",
    "df_acts_users[\"RegDate\"] = pd.to_datetime(df_acts_users[\"RegDate\"], format=\"%Y-%m-%d\")"
   ]
  },
  {
   "cell_type": "code",
   "execution_count": 15,
   "id": "e8da2e89",
   "metadata": {},
   "outputs": [],
   "source": [
    "df_acts_users[\"DaysRegtoDate\"] = df_acts_users[\"Date\"] - df_acts_users[\"RegDate\"]"
   ]
  },
  {
   "cell_type": "code",
   "execution_count": 16,
   "id": "5ebc851c",
   "metadata": {},
   "outputs": [],
   "source": [
    "df_acts_users[\"DaysRegtoToday\"] = pd.to_datetime(date.today(), format=\"%Y-%m-%d\") - df_acts_users[\"Date\"]"
   ]
  },
  {
   "cell_type": "code",
   "execution_count": 17,
   "id": "af34548f",
   "metadata": {},
   "outputs": [
    {
     "data": {
      "text/html": [
       "<div>\n",
       "<style scoped>\n",
       "    .dataframe tbody tr th:only-of-type {\n",
       "        vertical-align: middle;\n",
       "    }\n",
       "\n",
       "    .dataframe tbody tr th {\n",
       "        vertical-align: top;\n",
       "    }\n",
       "\n",
       "    .dataframe thead th {\n",
       "        text-align: right;\n",
       "    }\n",
       "</style>\n",
       "<table border=\"1\" class=\"dataframe\">\n",
       "  <thead>\n",
       "    <tr style=\"text-align: right;\">\n",
       "      <th></th>\n",
       "      <th>UserId</th>\n",
       "      <th>Revenue</th>\n",
       "    </tr>\n",
       "  </thead>\n",
       "  <tbody>\n",
       "    <tr>\n",
       "      <th>0</th>\n",
       "      <td>1326865</td>\n",
       "      <td>18.495789</td>\n",
       "    </tr>\n",
       "    <tr>\n",
       "      <th>1</th>\n",
       "      <td>1333278</td>\n",
       "      <td>22.500000</td>\n",
       "    </tr>\n",
       "    <tr>\n",
       "      <th>2</th>\n",
       "      <td>1336967</td>\n",
       "      <td>20.000000</td>\n",
       "    </tr>\n",
       "    <tr>\n",
       "      <th>3</th>\n",
       "      <td>1339784</td>\n",
       "      <td>29.640000</td>\n",
       "    </tr>\n",
       "    <tr>\n",
       "      <th>4</th>\n",
       "      <td>1339829</td>\n",
       "      <td>17.050000</td>\n",
       "    </tr>\n",
       "    <tr>\n",
       "      <th>...</th>\n",
       "      <td>...</td>\n",
       "      <td>...</td>\n",
       "    </tr>\n",
       "    <tr>\n",
       "      <th>5792</th>\n",
       "      <td>3347222</td>\n",
       "      <td>38.378333</td>\n",
       "    </tr>\n",
       "    <tr>\n",
       "      <th>5793</th>\n",
       "      <td>3347251</td>\n",
       "      <td>30.000000</td>\n",
       "    </tr>\n",
       "    <tr>\n",
       "      <th>5794</th>\n",
       "      <td>3347333</td>\n",
       "      <td>30.000000</td>\n",
       "    </tr>\n",
       "    <tr>\n",
       "      <th>5795</th>\n",
       "      <td>3347367</td>\n",
       "      <td>17.050000</td>\n",
       "    </tr>\n",
       "    <tr>\n",
       "      <th>5796</th>\n",
       "      <td>3347450</td>\n",
       "      <td>42.630000</td>\n",
       "    </tr>\n",
       "  </tbody>\n",
       "</table>\n",
       "<p>5797 rows × 2 columns</p>\n",
       "</div>"
      ],
      "text/plain": [
       "       UserId    Revenue\n",
       "0     1326865  18.495789\n",
       "1     1333278  22.500000\n",
       "2     1336967  20.000000\n",
       "3     1339784  29.640000\n",
       "4     1339829  17.050000\n",
       "...       ...        ...\n",
       "5792  3347222  38.378333\n",
       "5793  3347251  30.000000\n",
       "5794  3347333  30.000000\n",
       "5795  3347367  17.050000\n",
       "5796  3347450  42.630000\n",
       "\n",
       "[5797 rows x 2 columns]"
      ]
     },
     "execution_count": 17,
     "metadata": {},
     "output_type": "execute_result"
    }
   ],
   "source": [
    "df_acts_users.groupby(\"UserId\").agg(\"mean\").reset_index()"
   ]
  },
  {
   "cell_type": "code",
   "execution_count": 18,
   "id": "22a8cb97",
   "metadata": {},
   "outputs": [
    {
     "data": {
      "text/html": [
       "<div>\n",
       "<style scoped>\n",
       "    .dataframe tbody tr th:only-of-type {\n",
       "        vertical-align: middle;\n",
       "    }\n",
       "\n",
       "    .dataframe tbody tr th {\n",
       "        vertical-align: top;\n",
       "    }\n",
       "\n",
       "    .dataframe thead th {\n",
       "        text-align: right;\n",
       "    }\n",
       "</style>\n",
       "<table border=\"1\" class=\"dataframe\">\n",
       "  <thead>\n",
       "    <tr style=\"text-align: right;\">\n",
       "      <th></th>\n",
       "      <th>UserId</th>\n",
       "      <th>Revenue</th>\n",
       "    </tr>\n",
       "  </thead>\n",
       "  <tbody>\n",
       "    <tr>\n",
       "      <th>0</th>\n",
       "      <td>1326865</td>\n",
       "      <td>17.16</td>\n",
       "    </tr>\n",
       "    <tr>\n",
       "      <th>1</th>\n",
       "      <td>1333278</td>\n",
       "      <td>22.50</td>\n",
       "    </tr>\n",
       "    <tr>\n",
       "      <th>2</th>\n",
       "      <td>1336967</td>\n",
       "      <td>20.00</td>\n",
       "    </tr>\n",
       "    <tr>\n",
       "      <th>3</th>\n",
       "      <td>1339784</td>\n",
       "      <td>29.64</td>\n",
       "    </tr>\n",
       "    <tr>\n",
       "      <th>4</th>\n",
       "      <td>1339829</td>\n",
       "      <td>17.05</td>\n",
       "    </tr>\n",
       "    <tr>\n",
       "      <th>...</th>\n",
       "      <td>...</td>\n",
       "      <td>...</td>\n",
       "    </tr>\n",
       "    <tr>\n",
       "      <th>5792</th>\n",
       "      <td>3347222</td>\n",
       "      <td>28.40</td>\n",
       "    </tr>\n",
       "    <tr>\n",
       "      <th>5793</th>\n",
       "      <td>3347251</td>\n",
       "      <td>30.00</td>\n",
       "    </tr>\n",
       "    <tr>\n",
       "      <th>5794</th>\n",
       "      <td>3347333</td>\n",
       "      <td>30.00</td>\n",
       "    </tr>\n",
       "    <tr>\n",
       "      <th>5795</th>\n",
       "      <td>3347367</td>\n",
       "      <td>17.05</td>\n",
       "    </tr>\n",
       "    <tr>\n",
       "      <th>5796</th>\n",
       "      <td>3347450</td>\n",
       "      <td>42.63</td>\n",
       "    </tr>\n",
       "  </tbody>\n",
       "</table>\n",
       "<p>5797 rows × 2 columns</p>\n",
       "</div>"
      ],
      "text/plain": [
       "       UserId  Revenue\n",
       "0     1326865    17.16\n",
       "1     1333278    22.50\n",
       "2     1336967    20.00\n",
       "3     1339784    29.64\n",
       "4     1339829    17.05\n",
       "...       ...      ...\n",
       "5792  3347222    28.40\n",
       "5793  3347251    30.00\n",
       "5794  3347333    30.00\n",
       "5795  3347367    17.05\n",
       "5796  3347450    42.63\n",
       "\n",
       "[5797 rows x 2 columns]"
      ]
     },
     "execution_count": 18,
     "metadata": {},
     "output_type": "execute_result"
    }
   ],
   "source": [
    "df_acts_users.groupby(\"UserId\").agg(\"median\").reset_index()"
   ]
  },
  {
   "cell_type": "code",
   "execution_count": 19,
   "id": "6c4dece5",
   "metadata": {},
   "outputs": [
    {
     "data": {
      "text/plain": [
       "131.26347009981455"
      ]
     },
     "execution_count": 19,
     "metadata": {},
     "output_type": "execute_result"
    }
   ],
   "source": [
    "df_acts_users[\"Revenue\"].mean()"
   ]
  },
  {
   "cell_type": "code",
   "execution_count": 20,
   "id": "9da41ede",
   "metadata": {},
   "outputs": [
    {
     "data": {
      "text/plain": [
       "40.0"
      ]
     },
     "execution_count": 20,
     "metadata": {},
     "output_type": "execute_result"
    }
   ],
   "source": [
    "df_acts_users[\"Revenue\"].median()"
   ]
  },
  {
   "cell_type": "code",
   "execution_count": 21,
   "id": "cf23fd14",
   "metadata": {},
   "outputs": [
    {
     "data": {
      "text/plain": [
       "19000.0"
      ]
     },
     "execution_count": 21,
     "metadata": {},
     "output_type": "execute_result"
    }
   ],
   "source": [
    "df_acts_users[\"Revenue\"].max()"
   ]
  },
  {
   "cell_type": "code",
   "execution_count": 22,
   "id": "763c233c",
   "metadata": {},
   "outputs": [],
   "source": [
    "%matplotlib inline"
   ]
  },
  {
   "cell_type": "code",
   "execution_count": 23,
   "id": "a5f2ac3d",
   "metadata": {},
   "outputs": [],
   "source": [
    "import matplotlib.pyplot as plt"
   ]
  },
  {
   "cell_type": "code",
   "execution_count": 24,
   "id": "60b61ae1",
   "metadata": {},
   "outputs": [
    {
     "data": {
      "text/plain": [
       "(array([1.9864e+04, 1.3390e+03, 5.9600e+02, 2.4100e+02, 1.7800e+02,\n",
       "        1.1600e+02, 4.4000e+01, 4.1000e+01, 3.6000e+01, 1.4000e+01,\n",
       "        2.7000e+01, 2.1000e+01, 1.5000e+01, 1.7000e+01, 7.0000e+00,\n",
       "        1.4000e+01, 6.0000e+00, 7.0000e+00, 3.0000e+00, 4.0000e+00,\n",
       "        4.0000e+00, 3.0000e+00, 3.0000e+00, 3.0000e+00, 5.0000e+00,\n",
       "        2.0000e+00, 4.0000e+00, 4.0000e+00, 1.0000e+00, 1.0000e+00,\n",
       "        0.0000e+00, 2.0000e+00, 1.0000e+00, 0.0000e+00, 1.0000e+00,\n",
       "        0.0000e+00, 2.0000e+00, 0.0000e+00, 0.0000e+00, 1.0000e+00,\n",
       "        0.0000e+00, 1.0000e+00, 1.0000e+00, 0.0000e+00, 0.0000e+00,\n",
       "        1.0000e+00, 0.0000e+00, 0.0000e+00, 0.0000e+00, 0.0000e+00,\n",
       "        0.0000e+00, 2.0000e+00, 0.0000e+00, 1.0000e+00, 0.0000e+00,\n",
       "        0.0000e+00, 0.0000e+00, 2.0000e+00, 0.0000e+00, 0.0000e+00,\n",
       "        1.0000e+00, 1.0000e+00, 0.0000e+00, 0.0000e+00, 0.0000e+00,\n",
       "        1.0000e+00, 0.0000e+00, 0.0000e+00, 0.0000e+00, 0.0000e+00,\n",
       "        0.0000e+00, 1.0000e+00, 0.0000e+00, 1.0000e+00, 0.0000e+00,\n",
       "        0.0000e+00, 0.0000e+00, 0.0000e+00, 0.0000e+00, 0.0000e+00,\n",
       "        0.0000e+00, 0.0000e+00, 0.0000e+00, 0.0000e+00, 0.0000e+00,\n",
       "        0.0000e+00, 0.0000e+00, 0.0000e+00, 0.0000e+00, 0.0000e+00,\n",
       "        0.0000e+00, 0.0000e+00, 0.0000e+00, 0.0000e+00, 0.0000e+00,\n",
       "        0.0000e+00, 0.0000e+00, 0.0000e+00, 0.0000e+00, 2.0000e+00]),\n",
       " array([1.100000e+01, 2.008900e+02, 3.907800e+02, 5.806700e+02,\n",
       "        7.705600e+02, 9.604500e+02, 1.150340e+03, 1.340230e+03,\n",
       "        1.530120e+03, 1.720010e+03, 1.909900e+03, 2.099790e+03,\n",
       "        2.289680e+03, 2.479570e+03, 2.669460e+03, 2.859350e+03,\n",
       "        3.049240e+03, 3.239130e+03, 3.429020e+03, 3.618910e+03,\n",
       "        3.808800e+03, 3.998690e+03, 4.188580e+03, 4.378470e+03,\n",
       "        4.568360e+03, 4.758250e+03, 4.948140e+03, 5.138030e+03,\n",
       "        5.327920e+03, 5.517810e+03, 5.707700e+03, 5.897590e+03,\n",
       "        6.087480e+03, 6.277370e+03, 6.467260e+03, 6.657150e+03,\n",
       "        6.847040e+03, 7.036930e+03, 7.226820e+03, 7.416710e+03,\n",
       "        7.606600e+03, 7.796490e+03, 7.986380e+03, 8.176270e+03,\n",
       "        8.366160e+03, 8.556050e+03, 8.745940e+03, 8.935830e+03,\n",
       "        9.125720e+03, 9.315610e+03, 9.505500e+03, 9.695390e+03,\n",
       "        9.885280e+03, 1.007517e+04, 1.026506e+04, 1.045495e+04,\n",
       "        1.064484e+04, 1.083473e+04, 1.102462e+04, 1.121451e+04,\n",
       "        1.140440e+04, 1.159429e+04, 1.178418e+04, 1.197407e+04,\n",
       "        1.216396e+04, 1.235385e+04, 1.254374e+04, 1.273363e+04,\n",
       "        1.292352e+04, 1.311341e+04, 1.330330e+04, 1.349319e+04,\n",
       "        1.368308e+04, 1.387297e+04, 1.406286e+04, 1.425275e+04,\n",
       "        1.444264e+04, 1.463253e+04, 1.482242e+04, 1.501231e+04,\n",
       "        1.520220e+04, 1.539209e+04, 1.558198e+04, 1.577187e+04,\n",
       "        1.596176e+04, 1.615165e+04, 1.634154e+04, 1.653143e+04,\n",
       "        1.672132e+04, 1.691121e+04, 1.710110e+04, 1.729099e+04,\n",
       "        1.748088e+04, 1.767077e+04, 1.786066e+04, 1.805055e+04,\n",
       "        1.824044e+04, 1.843033e+04, 1.862022e+04, 1.881011e+04,\n",
       "        1.900000e+04]),\n",
       " <BarContainer object of 100 artists>)"
      ]
     },
     "execution_count": 24,
     "metadata": {},
     "output_type": "execute_result"
    },
    {
     "data": {
      "image/png": "[encoded data removed]",
      "text/plain": [
       "<Figure size 432x288 with 1 Axes>"
      ]
     },
     "metadata": {
      "needs_background": "light"
     },
     "output_type": "display_data"
    }
   ],
   "source": [
    "plt.hist(df_acts_users[\"Revenue\"], bins=100)"
   ]
  },
  {
   "cell_type": "code",
   "execution_count": 25,
   "id": "ca728ba7",
   "metadata": {},
   "outputs": [
    {
     "data": {
      "text/plain": [
       "(array([1.9864e+04, 1.3390e+03, 5.9600e+02, 2.4100e+02, 1.7800e+02,\n",
       "        1.1600e+02, 4.4000e+01, 4.1000e+01, 3.6000e+01, 1.4000e+01,\n",
       "        2.7000e+01, 2.1000e+01, 1.5000e+01, 1.7000e+01, 7.0000e+00,\n",
       "        1.4000e+01, 6.0000e+00, 7.0000e+00, 3.0000e+00, 4.0000e+00,\n",
       "        4.0000e+00, 3.0000e+00, 3.0000e+00, 3.0000e+00, 5.0000e+00,\n",
       "        2.0000e+00, 4.0000e+00, 4.0000e+00, 1.0000e+00, 1.0000e+00,\n",
       "        0.0000e+00, 2.0000e+00, 1.0000e+00, 0.0000e+00, 1.0000e+00,\n",
       "        0.0000e+00, 2.0000e+00, 0.0000e+00, 0.0000e+00, 1.0000e+00,\n",
       "        0.0000e+00, 1.0000e+00, 1.0000e+00, 0.0000e+00, 0.0000e+00,\n",
       "        1.0000e+00, 0.0000e+00, 0.0000e+00, 0.0000e+00, 0.0000e+00,\n",
       "        0.0000e+00, 2.0000e+00, 0.0000e+00, 1.0000e+00, 0.0000e+00,\n",
       "        0.0000e+00, 0.0000e+00, 2.0000e+00, 0.0000e+00, 0.0000e+00,\n",
       "        1.0000e+00, 1.0000e+00, 0.0000e+00, 0.0000e+00, 0.0000e+00,\n",
       "        1.0000e+00, 0.0000e+00, 0.0000e+00, 0.0000e+00, 0.0000e+00,\n",
       "        0.0000e+00, 1.0000e+00, 0.0000e+00, 1.0000e+00, 0.0000e+00,\n",
       "        0.0000e+00, 0.0000e+00, 0.0000e+00, 0.0000e+00, 0.0000e+00,\n",
       "        0.0000e+00, 0.0000e+00, 0.0000e+00, 0.0000e+00, 0.0000e+00,\n",
       "        0.0000e+00, 0.0000e+00, 0.0000e+00, 0.0000e+00, 0.0000e+00,\n",
       "        0.0000e+00, 0.0000e+00, 0.0000e+00, 0.0000e+00, 0.0000e+00,\n",
       "        0.0000e+00, 0.0000e+00, 0.0000e+00, 0.0000e+00, 2.0000e+00]),\n",
       " array([1.100000e+01, 2.008900e+02, 3.907800e+02, 5.806700e+02,\n",
       "        7.705600e+02, 9.604500e+02, 1.150340e+03, 1.340230e+03,\n",
       "        1.530120e+03, 1.720010e+03, 1.909900e+03, 2.099790e+03,\n",
       "        2.289680e+03, 2.479570e+03, 2.669460e+03, 2.859350e+03,\n",
       "        3.049240e+03, 3.239130e+03, 3.429020e+03, 3.618910e+03,\n",
       "        3.808800e+03, 3.998690e+03, 4.188580e+03, 4.378470e+03,\n",
       "        4.568360e+03, 4.758250e+03, 4.948140e+03, 5.138030e+03,\n",
       "        5.327920e+03, 5.517810e+03, 5.707700e+03, 5.897590e+03,\n",
       "        6.087480e+03, 6.277370e+03, 6.467260e+03, 6.657150e+03,\n",
       "        6.847040e+03, 7.036930e+03, 7.226820e+03, 7.416710e+03,\n",
       "        7.606600e+03, 7.796490e+03, 7.986380e+03, 8.176270e+03,\n",
       "        8.366160e+03, 8.556050e+03, 8.745940e+03, 8.935830e+03,\n",
       "        9.125720e+03, 9.315610e+03, 9.505500e+03, 9.695390e+03,\n",
       "        9.885280e+03, 1.007517e+04, 1.026506e+04, 1.045495e+04,\n",
       "        1.064484e+04, 1.083473e+04, 1.102462e+04, 1.121451e+04,\n",
       "        1.140440e+04, 1.159429e+04, 1.178418e+04, 1.197407e+04,\n",
       "        1.216396e+04, 1.235385e+04, 1.254374e+04, 1.273363e+04,\n",
       "        1.292352e+04, 1.311341e+04, 1.330330e+04, 1.349319e+04,\n",
       "        1.368308e+04, 1.387297e+04, 1.406286e+04, 1.425275e+04,\n",
       "        1.444264e+04, 1.463253e+04, 1.482242e+04, 1.501231e+04,\n",
       "        1.520220e+04, 1.539209e+04, 1.558198e+04, 1.577187e+04,\n",
       "        1.596176e+04, 1.615165e+04, 1.634154e+04, 1.653143e+04,\n",
       "        1.672132e+04, 1.691121e+04, 1.710110e+04, 1.729099e+04,\n",
       "        1.748088e+04, 1.767077e+04, 1.786066e+04, 1.805055e+04,\n",
       "        1.824044e+04, 1.843033e+04, 1.862022e+04, 1.881011e+04,\n",
       "        1.900000e+04]),\n",
       " <BarContainer object of 100 artists>)"
      ]
     },
     "execution_count": 25,
     "metadata": {},
     "output_type": "execute_result"
    },
    {
     "data": {
      "image/png": "[encoded data removed]",
      "text/plain": [
       "<Figure size 432x288 with 1 Axes>"
      ]
     },
     "metadata": {
      "needs_background": "light"
     },
     "output_type": "display_data"
    }
   ],
   "source": [
    "plt.hist(df_acts_users[\"Revenue\"], bins=100, log=True)"
   ]
  },
  {
   "cell_type": "code",
   "execution_count": 26,
   "id": "a9124828",
   "metadata": {},
   "outputs": [
    {
     "data": {
      "text/plain": [
       "(array([7.345e+03, 1.134e+03, 7.930e+02, 6.300e+02, 5.860e+02, 5.610e+02,\n",
       "        4.700e+02, 6.300e+02, 5.320e+02, 4.830e+02, 3.950e+02, 3.630e+02,\n",
       "        2.910e+02, 3.230e+02, 3.420e+02, 2.770e+02, 2.890e+02, 2.790e+02,\n",
       "        3.160e+02, 2.980e+02, 2.820e+02, 3.860e+02, 2.920e+02, 3.240e+02,\n",
       "        3.270e+02, 3.040e+02, 3.070e+02, 3.090e+02, 3.530e+02, 2.810e+02,\n",
       "        2.610e+02, 2.470e+02, 2.420e+02, 2.410e+02, 2.410e+02, 2.420e+02,\n",
       "        1.710e+02, 1.450e+02, 1.450e+02, 1.340e+02, 1.050e+02, 1.180e+02,\n",
       "        1.300e+02, 8.000e+01, 8.100e+01, 6.400e+01, 7.400e+01, 6.800e+01,\n",
       "        4.000e+01, 4.700e+01, 4.500e+01, 3.300e+01, 1.500e+01, 1.200e+01,\n",
       "        8.000e+00, 1.900e+01, 1.100e+01, 5.000e+00, 6.000e+00, 8.000e+00,\n",
       "        1.000e+01, 7.000e+00, 7.000e+00, 3.000e+00, 6.000e+00, 9.000e+00,\n",
       "        4.000e+00, 7.000e+00, 4.000e+00, 4.000e+00, 2.000e+00, 6.000e+00,\n",
       "        8.000e+00, 7.000e+00, 5.000e+00, 2.000e+00, 1.000e+00, 0.000e+00,\n",
       "        1.000e+00, 2.000e+00, 0.000e+00, 1.000e+00, 1.000e+00, 0.000e+00,\n",
       "        0.000e+00, 1.000e+00, 0.000e+00, 1.000e+00, 0.000e+00, 1.000e+00,\n",
       "        0.000e+00, 0.000e+00, 1.000e+00, 0.000e+00, 0.000e+00, 0.000e+00,\n",
       "        0.000e+00, 0.000e+00, 0.000e+00, 1.000e+00]),\n",
       " array([  0.  ,   6.14,  12.28,  18.42,  24.56,  30.7 ,  36.84,  42.98,\n",
       "         49.12,  55.26,  61.4 ,  67.54,  73.68,  79.82,  85.96,  92.1 ,\n",
       "         98.24, 104.38, 110.52, 116.66, 122.8 , 128.94, 135.08, 141.22,\n",
       "        147.36, 153.5 , 159.64, 165.78, 171.92, 178.06, 184.2 , 190.34,\n",
       "        196.48, 202.62, 208.76, 214.9 , 221.04, 227.18, 233.32, 239.46,\n",
       "        245.6 , 251.74, 257.88, 264.02, 270.16, 276.3 , 282.44, 288.58,\n",
       "        294.72, 300.86, 307.  , 313.14, 319.28, 325.42, 331.56, 337.7 ,\n",
       "        343.84, 349.98, 356.12, 362.26, 368.4 , 374.54, 380.68, 386.82,\n",
       "        392.96, 399.1 , 405.24, 411.38, 417.52, 423.66, 429.8 , 435.94,\n",
       "        442.08, 448.22, 454.36, 460.5 , 466.64, 472.78, 478.92, 485.06,\n",
       "        491.2 , 497.34, 503.48, 509.62, 515.76, 521.9 , 528.04, 534.18,\n",
       "        540.32, 546.46, 552.6 , 558.74, 564.88, 571.02, 577.16, 583.3 ,\n",
       "        589.44, 595.58, 601.72, 607.86, 614.  ]),\n",
       " <BarContainer object of 100 artists>)"
      ]
     },
     "execution_count": 26,
     "metadata": {},
     "output_type": "execute_result"
    },
    {
     "data": {
      "image/png": "[encoded data removed]",
      "text/plain": [
       "<Figure size 432x288 with 1 Axes>"
      ]
     },
     "metadata": {
      "needs_background": "light"
     },
     "output_type": "display_data"
    }
   ],
   "source": [
    "# histogram of days between reg and date\n",
    "plt.hist(df_acts_users[\"DaysRegtoDate\"] / pd.Timedelta(1, unit='d'), bins=100)"
   ]
  },
  {
   "cell_type": "code",
   "execution_count": 27,
   "id": "e05c65f4",
   "metadata": {},
   "outputs": [],
   "source": [
    "# careful to use 6 days since registration day is day 0\n",
    "df_acts_one_week = df_acts_users.loc[df_acts_users.loc[:,\"DaysRegtoDate\"] <= pd.Timedelta(6,'D'),:]"
   ]
  },
  {
   "cell_type": "code",
   "execution_count": 28,
   "id": "a1c9c20f",
   "metadata": {},
   "outputs": [
    {
     "data": {
      "text/plain": [
       "131.2853274336288"
      ]
     },
     "execution_count": 28,
     "metadata": {},
     "output_type": "execute_result"
    }
   ],
   "source": [
    "df_acts_one_week[\"Revenue\"].mean()"
   ]
  },
  {
   "cell_type": "code",
   "execution_count": 29,
   "id": "6729b470",
   "metadata": {
    "scrolled": true
   },
   "outputs": [
    {
     "data": {
      "text/plain": [
       "42.63"
      ]
     },
     "execution_count": 29,
     "metadata": {},
     "output_type": "execute_result"
    }
   ],
   "source": [
    "df_acts_one_week[\"Revenue\"].median()"
   ]
  },
  {
   "cell_type": "markdown",
   "id": "c719889e",
   "metadata": {},
   "source": [
    "## Block B"
   ]
  },
  {
   "cell_type": "code",
   "execution_count": 30,
   "id": "592b36e2",
   "metadata": {},
   "outputs": [
    {
     "data": {
      "text/html": [
       "<div>\n",
       "<style scoped>\n",
       "    .dataframe tbody tr th:only-of-type {\n",
       "        vertical-align: middle;\n",
       "    }\n",
       "\n",
       "    .dataframe tbody tr th {\n",
       "        vertical-align: top;\n",
       "    }\n",
       "\n",
       "    .dataframe thead th {\n",
       "        text-align: right;\n",
       "    }\n",
       "</style>\n",
       "<table border=\"1\" class=\"dataframe\">\n",
       "  <thead>\n",
       "    <tr style=\"text-align: right;\">\n",
       "      <th></th>\n",
       "      <th>Gender</th>\n",
       "      <th>Revenue</th>\n",
       "    </tr>\n",
       "  </thead>\n",
       "  <tbody>\n",
       "    <tr>\n",
       "      <th>0</th>\n",
       "      <td>F</td>\n",
       "      <td>102.492762</td>\n",
       "    </tr>\n",
       "    <tr>\n",
       "      <th>1</th>\n",
       "      <td>M</td>\n",
       "      <td>143.921557</td>\n",
       "    </tr>\n",
       "  </tbody>\n",
       "</table>\n",
       "</div>"
      ],
      "text/plain": [
       "  Gender     Revenue\n",
       "0      F  102.492762\n",
       "1      M  143.921557"
      ]
     },
     "execution_count": 30,
     "metadata": {},
     "output_type": "execute_result"
    }
   ],
   "source": [
    "# full time period\n",
    "df_acts_users.groupby(\"Gender\").agg(\"mean\").drop(\"UserId\", axis=\"columns\").reset_index()"
   ]
  },
  {
   "cell_type": "code",
   "execution_count": 31,
   "id": "2f29037e",
   "metadata": {},
   "outputs": [
    {
     "data": {
      "text/html": [
       "<div>\n",
       "<style scoped>\n",
       "    .dataframe tbody tr th:only-of-type {\n",
       "        vertical-align: middle;\n",
       "    }\n",
       "\n",
       "    .dataframe tbody tr th {\n",
       "        vertical-align: top;\n",
       "    }\n",
       "\n",
       "    .dataframe thead th {\n",
       "        text-align: right;\n",
       "    }\n",
       "</style>\n",
       "<table border=\"1\" class=\"dataframe\">\n",
       "  <thead>\n",
       "    <tr style=\"text-align: right;\">\n",
       "      <th></th>\n",
       "      <th>Gender</th>\n",
       "      <th>Revenue</th>\n",
       "    </tr>\n",
       "  </thead>\n",
       "  <tbody>\n",
       "    <tr>\n",
       "      <th>0</th>\n",
       "      <td>F</td>\n",
       "      <td>112.653657</td>\n",
       "    </tr>\n",
       "    <tr>\n",
       "      <th>1</th>\n",
       "      <td>M</td>\n",
       "      <td>137.196272</td>\n",
       "    </tr>\n",
       "  </tbody>\n",
       "</table>\n",
       "</div>"
      ],
      "text/plain": [
       "  Gender     Revenue\n",
       "0      F  112.653657\n",
       "1      M  137.196272"
      ]
     },
     "execution_count": 31,
     "metadata": {},
     "output_type": "execute_result"
    }
   ],
   "source": [
    "# one week since registration\n",
    "df_acts_one_week.groupby(\"Gender\").agg(\"mean\").drop(\"UserId\", axis=\"columns\").reset_index()"
   ]
  },
  {
   "cell_type": "code",
   "execution_count": 32,
   "id": "7bf860b0",
   "metadata": {},
   "outputs": [],
   "source": [
    "import numpy as np"
   ]
  },
  {
   "cell_type": "code",
   "execution_count": 33,
   "id": "811907e2",
   "metadata": {},
   "outputs": [
    {
     "data": {
      "text/html": [
       "<div>\n",
       "<style scoped>\n",
       "    .dataframe tbody tr th:only-of-type {\n",
       "        vertical-align: middle;\n",
       "    }\n",
       "\n",
       "    .dataframe tbody tr th {\n",
       "        vertical-align: top;\n",
       "    }\n",
       "\n",
       "    .dataframe thead th {\n",
       "        text-align: right;\n",
       "    }\n",
       "</style>\n",
       "<table border=\"1\" class=\"dataframe\">\n",
       "  <thead>\n",
       "    <tr style=\"text-align: right;\">\n",
       "      <th></th>\n",
       "      <th>Gender</th>\n",
       "      <th>Revenue</th>\n",
       "    </tr>\n",
       "  </thead>\n",
       "  <tbody>\n",
       "    <tr>\n",
       "      <th>0</th>\n",
       "      <td>F</td>\n",
       "      <td>370.411594</td>\n",
       "    </tr>\n",
       "    <tr>\n",
       "      <th>1</th>\n",
       "      <td>M</td>\n",
       "      <td>396.771341</td>\n",
       "    </tr>\n",
       "  </tbody>\n",
       "</table>\n",
       "</div>"
      ],
      "text/plain": [
       "  Gender     Revenue\n",
       "0      F  370.411594\n",
       "1      M  396.771341"
      ]
     },
     "execution_count": 33,
     "metadata": {},
     "output_type": "execute_result"
    }
   ],
   "source": [
    "df_acts_one_week.groupby(\"Gender\").agg(np.std, ddof=0).reset_index()[[\"Gender\", \"Revenue\"]]"
   ]
  },
  {
   "cell_type": "code",
   "execution_count": 34,
   "id": "af2fee5d",
   "metadata": {},
   "outputs": [
    {
     "data": {
      "text/plain": [
       "M    5576\n",
       "F    1769\n",
       "Name: Gender, dtype: int64"
      ]
     },
     "execution_count": 34,
     "metadata": {},
     "output_type": "execute_result"
    }
   ],
   "source": [
    "df_acts_one_week[\"Gender\"].value_counts()"
   ]
  },
  {
   "cell_type": "code",
   "execution_count": 35,
   "id": "832e8773",
   "metadata": {},
   "outputs": [],
   "source": [
    "from statsmodels.stats.weightstats import ztest\n",
    "from statsmodels.stats.weightstats import CompareMeans"
   ]
  },
  {
   "cell_type": "code",
   "execution_count": 36,
   "id": "562f16a7",
   "metadata": {},
   "outputs": [],
   "source": [
    "males = df_acts_one_week.loc[df_acts_one_week[\"Gender\"] == \"M\",\"Revenue\"]"
   ]
  },
  {
   "cell_type": "code",
   "execution_count": 37,
   "id": "ac4ee576",
   "metadata": {},
   "outputs": [],
   "source": [
    "females = df_acts_one_week.loc[df_acts_one_week[\"Gender\"] == \"F\",\"Revenue\"]"
   ]
  },
  {
   "cell_type": "code",
   "execution_count": 38,
   "id": "681a5aed",
   "metadata": {},
   "outputs": [],
   "source": [
    "logging.info(f\"For test of null hypothesis that means are equal (assuming an equal variance), p-value is {ztest(x1=males, x2=females)[1]}, reject null that means are equal\")"
   ]
  },
  {
   "cell_type": "code",
   "execution_count": 39,
   "id": "32e73318",
   "metadata": {},
   "outputs": [],
   "source": [
    "# assume standard deviations are different?"
   ]
  },
  {
   "cell_type": "code",
   "execution_count": 40,
   "id": "c3097cd4",
   "metadata": {},
   "outputs": [],
   "source": [
    "df_country_diffs = df_acts_one_week.groupby([\"Country\", \"Gender\"]).agg(\"mean\").reset_index()[[\"Gender\", \"Country\", \"Revenue\"]]"
   ]
  },
  {
   "cell_type": "code",
   "execution_count": 41,
   "id": "5ebcf3a3",
   "metadata": {},
   "outputs": [
    {
     "data": {
      "text/html": [
       "<div>\n",
       "<style scoped>\n",
       "    .dataframe tbody tr th:only-of-type {\n",
       "        vertical-align: middle;\n",
       "    }\n",
       "\n",
       "    .dataframe tbody tr th {\n",
       "        vertical-align: top;\n",
       "    }\n",
       "\n",
       "    .dataframe thead th {\n",
       "        text-align: right;\n",
       "    }\n",
       "</style>\n",
       "<table border=\"1\" class=\"dataframe\">\n",
       "  <thead>\n",
       "    <tr style=\"text-align: right;\">\n",
       "      <th></th>\n",
       "      <th>Gender</th>\n",
       "      <th>Country</th>\n",
       "      <th>Revenue</th>\n",
       "    </tr>\n",
       "  </thead>\n",
       "  <tbody>\n",
       "    <tr>\n",
       "      <th>0</th>\n",
       "      <td>F</td>\n",
       "      <td>DE</td>\n",
       "      <td>87.698019</td>\n",
       "    </tr>\n",
       "    <tr>\n",
       "      <th>1</th>\n",
       "      <td>M</td>\n",
       "      <td>DE</td>\n",
       "      <td>110.190044</td>\n",
       "    </tr>\n",
       "    <tr>\n",
       "      <th>2</th>\n",
       "      <td>F</td>\n",
       "      <td>FR</td>\n",
       "      <td>133.803396</td>\n",
       "    </tr>\n",
       "    <tr>\n",
       "      <th>3</th>\n",
       "      <td>M</td>\n",
       "      <td>FR</td>\n",
       "      <td>169.612649</td>\n",
       "    </tr>\n",
       "    <tr>\n",
       "      <th>4</th>\n",
       "      <td>F</td>\n",
       "      <td>GB</td>\n",
       "      <td>137.221082</td>\n",
       "    </tr>\n",
       "    <tr>\n",
       "      <th>5</th>\n",
       "      <td>M</td>\n",
       "      <td>GB</td>\n",
       "      <td>147.662370</td>\n",
       "    </tr>\n",
       "    <tr>\n",
       "      <th>6</th>\n",
       "      <td>F</td>\n",
       "      <td>Other</td>\n",
       "      <td>63.176622</td>\n",
       "    </tr>\n",
       "    <tr>\n",
       "      <th>7</th>\n",
       "      <td>M</td>\n",
       "      <td>Other</td>\n",
       "      <td>104.133588</td>\n",
       "    </tr>\n",
       "    <tr>\n",
       "      <th>8</th>\n",
       "      <td>F</td>\n",
       "      <td>US</td>\n",
       "      <td>85.753758</td>\n",
       "    </tr>\n",
       "    <tr>\n",
       "      <th>9</th>\n",
       "      <td>M</td>\n",
       "      <td>US</td>\n",
       "      <td>143.903677</td>\n",
       "    </tr>\n",
       "  </tbody>\n",
       "</table>\n",
       "</div>"
      ],
      "text/plain": [
       "  Gender Country     Revenue\n",
       "0      F      DE   87.698019\n",
       "1      M      DE  110.190044\n",
       "2      F      FR  133.803396\n",
       "3      M      FR  169.612649\n",
       "4      F      GB  137.221082\n",
       "5      M      GB  147.662370\n",
       "6      F   Other   63.176622\n",
       "7      M   Other  104.133588\n",
       "8      F      US   85.753758\n",
       "9      M      US  143.903677"
      ]
     },
     "execution_count": 41,
     "metadata": {},
     "output_type": "execute_result"
    }
   ],
   "source": [
    "df_country_diffs"
   ]
  },
  {
   "cell_type": "code",
   "execution_count": 42,
   "id": "c164b5c8",
   "metadata": {},
   "outputs": [],
   "source": [
    "df_pivot = df_country_diffs.pivot(index=\"Country\", columns=\"Gender\").reset_index()\n",
    "df_pivot.columns = [\"Country\", \"Week1RevenueFemale\", \"Week1RevenueMale\"]"
   ]
  },
  {
   "cell_type": "code",
   "execution_count": 43,
   "id": "d8fc1290",
   "metadata": {},
   "outputs": [],
   "source": [
    "df_pivot[\"Delta\"] = df_pivot[\"Week1RevenueMale\"] - df_pivot[\"Week1RevenueFemale\"]"
   ]
  },
  {
   "cell_type": "code",
   "execution_count": 44,
   "id": "39365a17",
   "metadata": {},
   "outputs": [
    {
     "data": {
      "text/html": [
       "<div>\n",
       "<style scoped>\n",
       "    .dataframe tbody tr th:only-of-type {\n",
       "        vertical-align: middle;\n",
       "    }\n",
       "\n",
       "    .dataframe tbody tr th {\n",
       "        vertical-align: top;\n",
       "    }\n",
       "\n",
       "    .dataframe thead th {\n",
       "        text-align: right;\n",
       "    }\n",
       "</style>\n",
       "<table border=\"1\" class=\"dataframe\">\n",
       "  <thead>\n",
       "    <tr style=\"text-align: right;\">\n",
       "      <th></th>\n",
       "      <th>Country</th>\n",
       "      <th>Week1RevenueFemale</th>\n",
       "      <th>Week1RevenueMale</th>\n",
       "      <th>Delta</th>\n",
       "    </tr>\n",
       "  </thead>\n",
       "  <tbody>\n",
       "    <tr>\n",
       "      <th>0</th>\n",
       "      <td>DE</td>\n",
       "      <td>87.698019</td>\n",
       "      <td>110.190044</td>\n",
       "      <td>22.492025</td>\n",
       "    </tr>\n",
       "    <tr>\n",
       "      <th>1</th>\n",
       "      <td>FR</td>\n",
       "      <td>133.803396</td>\n",
       "      <td>169.612649</td>\n",
       "      <td>35.809253</td>\n",
       "    </tr>\n",
       "    <tr>\n",
       "      <th>2</th>\n",
       "      <td>GB</td>\n",
       "      <td>137.221082</td>\n",
       "      <td>147.662370</td>\n",
       "      <td>10.441289</td>\n",
       "    </tr>\n",
       "    <tr>\n",
       "      <th>3</th>\n",
       "      <td>Other</td>\n",
       "      <td>63.176622</td>\n",
       "      <td>104.133588</td>\n",
       "      <td>40.956966</td>\n",
       "    </tr>\n",
       "    <tr>\n",
       "      <th>4</th>\n",
       "      <td>US</td>\n",
       "      <td>85.753758</td>\n",
       "      <td>143.903677</td>\n",
       "      <td>58.149919</td>\n",
       "    </tr>\n",
       "  </tbody>\n",
       "</table>\n",
       "</div>"
      ],
      "text/plain": [
       "  Country  Week1RevenueFemale  Week1RevenueMale      Delta\n",
       "0      DE           87.698019        110.190044  22.492025\n",
       "1      FR          133.803396        169.612649  35.809253\n",
       "2      GB          137.221082        147.662370  10.441289\n",
       "3   Other           63.176622        104.133588  40.956966\n",
       "4      US           85.753758        143.903677  58.149919"
      ]
     },
     "execution_count": 44,
     "metadata": {},
     "output_type": "execute_result"
    }
   ],
   "source": [
    "df_pivot"
   ]
  },
  {
   "cell_type": "code",
   "execution_count": 45,
   "id": "b6253bb8",
   "metadata": {},
   "outputs": [],
   "source": [
    "country = df_pivot.loc[df_pivot[\"Delta\"] == df_pivot[\"Delta\"].max(),\"Country\"]"
   ]
  },
  {
   "cell_type": "code",
   "execution_count": 46,
   "id": "8b74c497",
   "metadata": {},
   "outputs": [],
   "source": [
    "logging.info(f\"Country with biggest gender difference for revenue is {np.array(country)[0]}\")"
   ]
  },
  {
   "cell_type": "markdown",
   "id": "9607f16a",
   "metadata": {},
   "source": [
    "### Relationship between country, gender and week 1 revenue"
   ]
  },
  {
   "cell_type": "code",
   "execution_count": 47,
   "id": "6891a328",
   "metadata": {},
   "outputs": [
    {
     "data": {
      "image/png": "[encoded data removed]",
      "text/plain": [
       "<Figure size 432x288 with 1 Axes>"
      ]
     },
     "metadata": {
      "needs_background": "light"
     },
     "output_type": "display_data"
    }
   ],
   "source": [
    "import numpy as np\n",
    "import matplotlib.pyplot as plt\n",
    "\n",
    "# data to plot\n",
    "n_groups = df_pivot.shape[0]\n",
    "week1_rev_male = df_pivot[\"Week1RevenueMale\"].tolist()\n",
    "week1_rev_female = df_pivot[\"Week1RevenueFemale\"].tolist()\n",
    "\n",
    "# create plot\n",
    "fig, ax = plt.subplots()\n",
    "index = np.arange(n_groups)\n",
    "bar_width = 0.35\n",
    "opacity = 0.8\n",
    "\n",
    "rects1 = plt.bar(index, week1_rev_male, bar_width,\n",
    "alpha=opacity,\n",
    "color='b',\n",
    "label='Males')\n",
    "\n",
    "rects2 = plt.bar(index + bar_width, week1_rev_female, bar_width,\n",
    "alpha=opacity,\n",
    "color='lightblue',\n",
    "label='Females')\n",
    "\n",
    "plt.xlabel('Country')\n",
    "plt.ylabel('Average Week 1 Revenue')\n",
    "plt.title('Average Week 1 Revenue per Gender by Country')\n",
    "plt.xticks(index + bar_width, df_pivot[\"Country\"].tolist())\n",
    "plt.legend()\n",
    "\n",
    "plt.tight_layout()\n",
    "plt.show()"
   ]
  },
  {
   "cell_type": "markdown",
   "id": "c3fbda65",
   "metadata": {},
   "source": [
    "### Linear Regression Model"
   ]
  },
  {
   "cell_type": "code",
   "execution_count": 48,
   "id": "6f59e514",
   "metadata": {},
   "outputs": [],
   "source": [
    "from sklearn.linear_model import LinearRegression"
   ]
  },
  {
   "cell_type": "code",
   "execution_count": 49,
   "id": "43a1eaab",
   "metadata": {},
   "outputs": [],
   "source": [
    "# calculate total week 1 revenue per user\n",
    "agg_week1_rev = (\n",
    "    df_acts_users.loc[df_acts_users.loc[:,\"DaysRegtoDate\"] <= pd.Timedelta(6,'D'),:]\n",
    "    .groupby(\"UserId\").agg(\"sum\").reset_index()\n",
    ")"
   ]
  },
  {
   "cell_type": "code",
   "execution_count": 50,
   "id": "6b6cbcbd",
   "metadata": {},
   "outputs": [],
   "source": [
    "agg_week1_rev.rename(columns={\"Revenue\": \"TotalWeek1Revenue\"}, inplace=True)"
   ]
  },
  {
   "cell_type": "code",
   "execution_count": 51,
   "id": "fc96cb4a",
   "metadata": {},
   "outputs": [],
   "source": [
    "# calculate total day 1 revenue per user\n",
    "agg_day1_rev = (\n",
    "    df_acts_users.loc[df_acts_users.loc[:,\"DaysRegtoDate\"] == pd.Timedelta(0,'D'),:]\n",
    "    .groupby(\"UserId\").agg(\"sum\").reset_index()\n",
    ")\n",
    "agg_day1_rev.rename(columns={\"Revenue\": \"TotalDay1Revenue\"}, inplace=True)"
   ]
  },
  {
   "cell_type": "code",
   "execution_count": 52,
   "id": "c5316ef1",
   "metadata": {},
   "outputs": [
    {
     "data": {
      "text/plain": [
       "False"
      ]
     },
     "execution_count": 52,
     "metadata": {},
     "output_type": "execute_result"
    }
   ],
   "source": [
    "# check if UserID column duplicated\n",
    "df_users[\"UserId\"].duplicated().any()"
   ]
  },
  {
   "cell_type": "code",
   "execution_count": 53,
   "id": "7a4ee8cd",
   "metadata": {},
   "outputs": [],
   "source": [
    "# create final linear regression dataframe\n",
    "from functools import reduce\n",
    "\n",
    "dataframes = [agg_week1_rev, agg_day1_rev, df_users]\n",
    "\n",
    "# calculate age age from df_users\n",
    "df_users[\"DOB\"] = pd.to_datetime(df_users[\"DOB\"], format=\"%Y-%m-%d\")\n",
    "df_users[\"AgeInDays\"] = pd.to_datetime(date.today(), format=\"%Y-%m-%d\") - df_users[\"DOB\"]\n",
    "df_users[\"AgeInDays\"] = df_users[\"AgeInDays\"] / pd.Timedelta(1, unit='d')\n",
    "\n",
    "df_lin_reg = reduce(lambda left, right: pd.merge(left, right,on=\"UserId\", how=\"left\"), dataframes)"
   ]
  },
  {
   "cell_type": "code",
   "execution_count": 54,
   "id": "aea3510a",
   "metadata": {},
   "outputs": [
    {
     "data": {
      "text/html": [
       "<div>\n",
       "<style scoped>\n",
       "    .dataframe tbody tr th:only-of-type {\n",
       "        vertical-align: middle;\n",
       "    }\n",
       "\n",
       "    .dataframe tbody tr th {\n",
       "        vertical-align: top;\n",
       "    }\n",
       "\n",
       "    .dataframe thead th {\n",
       "        text-align: right;\n",
       "    }\n",
       "</style>\n",
       "<table border=\"1\" class=\"dataframe\">\n",
       "  <thead>\n",
       "    <tr style=\"text-align: right;\">\n",
       "      <th></th>\n",
       "      <th>UserId</th>\n",
       "      <th>Date</th>\n",
       "      <th>Revenue</th>\n",
       "      <th>Country</th>\n",
       "      <th>DOB</th>\n",
       "      <th>Gender</th>\n",
       "      <th>RegDate</th>\n",
       "      <th>DaysRegtoDate</th>\n",
       "      <th>DaysRegtoToday</th>\n",
       "    </tr>\n",
       "  </thead>\n",
       "  <tbody>\n",
       "    <tr>\n",
       "      <th>1642</th>\n",
       "      <td>3109386</td>\n",
       "      <td>2017-03-03</td>\n",
       "      <td>20.0</td>\n",
       "      <td>GB</td>\n",
       "      <td>1986-05-16</td>\n",
       "      <td>F</td>\n",
       "      <td>2017-02-26</td>\n",
       "      <td>5 days</td>\n",
       "      <td>1709 days</td>\n",
       "    </tr>\n",
       "  </tbody>\n",
       "</table>\n",
       "</div>"
      ],
      "text/plain": [
       "       UserId       Date  Revenue Country        DOB Gender    RegDate  \\\n",
       "1642  3109386 2017-03-03     20.0      GB 1986-05-16      F 2017-02-26   \n",
       "\n",
       "     DaysRegtoDate DaysRegtoToday  \n",
       "1642        5 days      1709 days  "
      ]
     },
     "execution_count": 54,
     "metadata": {},
     "output_type": "execute_result"
    }
   ],
   "source": [
    "# there are some users who have revenue within a week, but no revenue on day 1\n",
    "df_acts_users.loc[df_acts_users[\"UserId\"] == 3109386,:]"
   ]
  },
  {
   "cell_type": "code",
   "execution_count": 55,
   "id": "1197bbdf",
   "metadata": {},
   "outputs": [
    {
     "data": {
      "text/html": [
       "<div>\n",
       "<style scoped>\n",
       "    .dataframe tbody tr th:only-of-type {\n",
       "        vertical-align: middle;\n",
       "    }\n",
       "\n",
       "    .dataframe tbody tr th {\n",
       "        vertical-align: top;\n",
       "    }\n",
       "\n",
       "    .dataframe thead th {\n",
       "        text-align: right;\n",
       "    }\n",
       "</style>\n",
       "<table border=\"1\" class=\"dataframe\">\n",
       "  <thead>\n",
       "    <tr style=\"text-align: right;\">\n",
       "      <th></th>\n",
       "      <th>UserId</th>\n",
       "      <th>TotalWeek1Revenue</th>\n",
       "      <th>TotalDay1Revenue</th>\n",
       "      <th>Country</th>\n",
       "      <th>DOB</th>\n",
       "      <th>Gender</th>\n",
       "      <th>RegDate</th>\n",
       "      <th>AgeInDays</th>\n",
       "    </tr>\n",
       "  </thead>\n",
       "  <tbody>\n",
       "    <tr>\n",
       "      <th>0</th>\n",
       "      <td>3109386</td>\n",
       "      <td>20.00</td>\n",
       "      <td>NaN</td>\n",
       "      <td>GB</td>\n",
       "      <td>1986-05-16</td>\n",
       "      <td>F</td>\n",
       "      <td>2017-02-26</td>\n",
       "      <td>12958.0</td>\n",
       "    </tr>\n",
       "    <tr>\n",
       "      <th>1</th>\n",
       "      <td>3114216</td>\n",
       "      <td>29.19</td>\n",
       "      <td>NaN</td>\n",
       "      <td>Other</td>\n",
       "      <td>1978-09-02</td>\n",
       "      <td>M</td>\n",
       "      <td>2017-01-23</td>\n",
       "      <td>15771.0</td>\n",
       "    </tr>\n",
       "    <tr>\n",
       "      <th>2</th>\n",
       "      <td>3114891</td>\n",
       "      <td>20.00</td>\n",
       "      <td>NaN</td>\n",
       "      <td>GB</td>\n",
       "      <td>1968-03-23</td>\n",
       "      <td>M</td>\n",
       "      <td>2017-01-16</td>\n",
       "      <td>19586.0</td>\n",
       "    </tr>\n",
       "    <tr>\n",
       "      <th>3</th>\n",
       "      <td>3115043</td>\n",
       "      <td>17.05</td>\n",
       "      <td>NaN</td>\n",
       "      <td>US</td>\n",
       "      <td>1985-11-01</td>\n",
       "      <td>F</td>\n",
       "      <td>2016-10-17</td>\n",
       "      <td>13154.0</td>\n",
       "    </tr>\n",
       "    <tr>\n",
       "      <th>4</th>\n",
       "      <td>3115226</td>\n",
       "      <td>25.00</td>\n",
       "      <td>NaN</td>\n",
       "      <td>GB</td>\n",
       "      <td>1967-07-04</td>\n",
       "      <td>M</td>\n",
       "      <td>2016-11-29</td>\n",
       "      <td>19849.0</td>\n",
       "    </tr>\n",
       "    <tr>\n",
       "      <th>...</th>\n",
       "      <td>...</td>\n",
       "      <td>...</td>\n",
       "      <td>...</td>\n",
       "      <td>...</td>\n",
       "      <td>...</td>\n",
       "      <td>...</td>\n",
       "      <td>...</td>\n",
       "      <td>...</td>\n",
       "    </tr>\n",
       "    <tr>\n",
       "      <th>5084</th>\n",
       "      <td>3347222</td>\n",
       "      <td>56.80</td>\n",
       "      <td>37.52</td>\n",
       "      <td>FR</td>\n",
       "      <td>1967-05-25</td>\n",
       "      <td>M</td>\n",
       "      <td>2017-03-22</td>\n",
       "      <td>19889.0</td>\n",
       "    </tr>\n",
       "    <tr>\n",
       "      <th>5085</th>\n",
       "      <td>3347251</td>\n",
       "      <td>30.00</td>\n",
       "      <td>30.00</td>\n",
       "      <td>GB</td>\n",
       "      <td>1981-06-11</td>\n",
       "      <td>F</td>\n",
       "      <td>2017-04-03</td>\n",
       "      <td>14758.0</td>\n",
       "    </tr>\n",
       "    <tr>\n",
       "      <th>5086</th>\n",
       "      <td>3347333</td>\n",
       "      <td>30.00</td>\n",
       "      <td>30.00</td>\n",
       "      <td>GB</td>\n",
       "      <td>1987-11-22</td>\n",
       "      <td>M</td>\n",
       "      <td>2017-01-27</td>\n",
       "      <td>12403.0</td>\n",
       "    </tr>\n",
       "    <tr>\n",
       "      <th>5087</th>\n",
       "      <td>3347367</td>\n",
       "      <td>17.05</td>\n",
       "      <td>17.05</td>\n",
       "      <td>US</td>\n",
       "      <td>1995-08-09</td>\n",
       "      <td>F</td>\n",
       "      <td>2017-04-04</td>\n",
       "      <td>9586.0</td>\n",
       "    </tr>\n",
       "    <tr>\n",
       "      <th>5088</th>\n",
       "      <td>3347450</td>\n",
       "      <td>42.63</td>\n",
       "      <td>42.63</td>\n",
       "      <td>US</td>\n",
       "      <td>1994-07-30</td>\n",
       "      <td>M</td>\n",
       "      <td>2017-04-21</td>\n",
       "      <td>9961.0</td>\n",
       "    </tr>\n",
       "  </tbody>\n",
       "</table>\n",
       "<p>5089 rows × 8 columns</p>\n",
       "</div>"
      ],
      "text/plain": [
       "       UserId  TotalWeek1Revenue  TotalDay1Revenue Country        DOB Gender  \\\n",
       "0     3109386              20.00               NaN      GB 1986-05-16      F   \n",
       "1     3114216              29.19               NaN   Other 1978-09-02      M   \n",
       "2     3114891              20.00               NaN      GB 1968-03-23      M   \n",
       "3     3115043              17.05               NaN      US 1985-11-01      F   \n",
       "4     3115226              25.00               NaN      GB 1967-07-04      M   \n",
       "...       ...                ...               ...     ...        ...    ...   \n",
       "5084  3347222              56.80             37.52      FR 1967-05-25      M   \n",
       "5085  3347251              30.00             30.00      GB 1981-06-11      F   \n",
       "5086  3347333              30.00             30.00      GB 1987-11-22      M   \n",
       "5087  3347367              17.05             17.05      US 1995-08-09      F   \n",
       "5088  3347450              42.63             42.63      US 1994-07-30      M   \n",
       "\n",
       "         RegDate  AgeInDays  \n",
       "0     2017-02-26    12958.0  \n",
       "1     2017-01-23    15771.0  \n",
       "2     2017-01-16    19586.0  \n",
       "3     2016-10-17    13154.0  \n",
       "4     2016-11-29    19849.0  \n",
       "...          ...        ...  \n",
       "5084  2017-03-22    19889.0  \n",
       "5085  2017-04-03    14758.0  \n",
       "5086  2017-01-27    12403.0  \n",
       "5087  2017-04-04     9586.0  \n",
       "5088  2017-04-21     9961.0  \n",
       "\n",
       "[5089 rows x 8 columns]"
      ]
     },
     "execution_count": 55,
     "metadata": {},
     "output_type": "execute_result"
    }
   ],
   "source": [
    "df_lin_reg"
   ]
  },
  {
   "cell_type": "code",
   "execution_count": 56,
   "id": "f16824c8",
   "metadata": {},
   "outputs": [],
   "source": [
    "# fill nans with 0 for 1 day revenue\n",
    "df_lin_reg[\"TotalDay1Revenue\"].fillna(0, inplace=True)"
   ]
  },
  {
   "cell_type": "code",
   "execution_count": 57,
   "id": "93b93218",
   "metadata": {},
   "outputs": [],
   "source": [
    "# specify target\n",
    "y = df_lin_reg[\"TotalWeek1Revenue\"]"
   ]
  },
  {
   "cell_type": "code",
   "execution_count": 58,
   "id": "60ccbe8e",
   "metadata": {},
   "outputs": [],
   "source": [
    "# specify features\n",
    "X = df_lin_reg[[\"Gender\", \"AgeInDays\", \"Country\", \"TotalDay1Revenue\"]]"
   ]
  },
  {
   "cell_type": "code",
   "execution_count": 59,
   "id": "c7610bef",
   "metadata": {},
   "outputs": [
    {
     "data": {
      "text/plain": [
       "Gender               object\n",
       "AgeInDays           float64\n",
       "Country              object\n",
       "TotalDay1Revenue    float64\n",
       "dtype: object"
      ]
     },
     "execution_count": 59,
     "metadata": {},
     "output_type": "execute_result"
    }
   ],
   "source": [
    "X.dtypes"
   ]
  },
  {
   "cell_type": "code",
   "execution_count": 60,
   "id": "9c3cfa19",
   "metadata": {},
   "outputs": [],
   "source": [
    "# get dummy variables for categorical independent variables\n",
    "X = pd.get_dummies(data=X, drop_first=True)"
   ]
  },
  {
   "cell_type": "code",
   "execution_count": 61,
   "id": "c160712d",
   "metadata": {
    "scrolled": true
   },
   "outputs": [
    {
     "data": {
      "text/html": [
       "<div>\n",
       "<style scoped>\n",
       "    .dataframe tbody tr th:only-of-type {\n",
       "        vertical-align: middle;\n",
       "    }\n",
       "\n",
       "    .dataframe tbody tr th {\n",
       "        vertical-align: top;\n",
       "    }\n",
       "\n",
       "    .dataframe thead th {\n",
       "        text-align: right;\n",
       "    }\n",
       "</style>\n",
       "<table border=\"1\" class=\"dataframe\">\n",
       "  <thead>\n",
       "    <tr style=\"text-align: right;\">\n",
       "      <th></th>\n",
       "      <th>AgeInDays</th>\n",
       "      <th>TotalDay1Revenue</th>\n",
       "      <th>Gender_M</th>\n",
       "      <th>Country_FR</th>\n",
       "      <th>Country_GB</th>\n",
       "      <th>Country_Other</th>\n",
       "      <th>Country_US</th>\n",
       "    </tr>\n",
       "  </thead>\n",
       "  <tbody>\n",
       "    <tr>\n",
       "      <th>0</th>\n",
       "      <td>12958.0</td>\n",
       "      <td>0.00</td>\n",
       "      <td>0</td>\n",
       "      <td>0</td>\n",
       "      <td>1</td>\n",
       "      <td>0</td>\n",
       "      <td>0</td>\n",
       "    </tr>\n",
       "    <tr>\n",
       "      <th>1</th>\n",
       "      <td>15771.0</td>\n",
       "      <td>0.00</td>\n",
       "      <td>1</td>\n",
       "      <td>0</td>\n",
       "      <td>0</td>\n",
       "      <td>1</td>\n",
       "      <td>0</td>\n",
       "    </tr>\n",
       "    <tr>\n",
       "      <th>2</th>\n",
       "      <td>19586.0</td>\n",
       "      <td>0.00</td>\n",
       "      <td>1</td>\n",
       "      <td>0</td>\n",
       "      <td>1</td>\n",
       "      <td>0</td>\n",
       "      <td>0</td>\n",
       "    </tr>\n",
       "    <tr>\n",
       "      <th>3</th>\n",
       "      <td>13154.0</td>\n",
       "      <td>0.00</td>\n",
       "      <td>0</td>\n",
       "      <td>0</td>\n",
       "      <td>0</td>\n",
       "      <td>0</td>\n",
       "      <td>1</td>\n",
       "    </tr>\n",
       "    <tr>\n",
       "      <th>4</th>\n",
       "      <td>19849.0</td>\n",
       "      <td>0.00</td>\n",
       "      <td>1</td>\n",
       "      <td>0</td>\n",
       "      <td>1</td>\n",
       "      <td>0</td>\n",
       "      <td>0</td>\n",
       "    </tr>\n",
       "    <tr>\n",
       "      <th>...</th>\n",
       "      <td>...</td>\n",
       "      <td>...</td>\n",
       "      <td>...</td>\n",
       "      <td>...</td>\n",
       "      <td>...</td>\n",
       "      <td>...</td>\n",
       "      <td>...</td>\n",
       "    </tr>\n",
       "    <tr>\n",
       "      <th>5084</th>\n",
       "      <td>19889.0</td>\n",
       "      <td>37.52</td>\n",
       "      <td>1</td>\n",
       "      <td>1</td>\n",
       "      <td>0</td>\n",
       "      <td>0</td>\n",
       "      <td>0</td>\n",
       "    </tr>\n",
       "    <tr>\n",
       "      <th>5085</th>\n",
       "      <td>14758.0</td>\n",
       "      <td>30.00</td>\n",
       "      <td>0</td>\n",
       "      <td>0</td>\n",
       "      <td>1</td>\n",
       "      <td>0</td>\n",
       "      <td>0</td>\n",
       "    </tr>\n",
       "    <tr>\n",
       "      <th>5086</th>\n",
       "      <td>12403.0</td>\n",
       "      <td>30.00</td>\n",
       "      <td>1</td>\n",
       "      <td>0</td>\n",
       "      <td>1</td>\n",
       "      <td>0</td>\n",
       "      <td>0</td>\n",
       "    </tr>\n",
       "    <tr>\n",
       "      <th>5087</th>\n",
       "      <td>9586.0</td>\n",
       "      <td>17.05</td>\n",
       "      <td>0</td>\n",
       "      <td>0</td>\n",
       "      <td>0</td>\n",
       "      <td>0</td>\n",
       "      <td>1</td>\n",
       "    </tr>\n",
       "    <tr>\n",
       "      <th>5088</th>\n",
       "      <td>9961.0</td>\n",
       "      <td>42.63</td>\n",
       "      <td>1</td>\n",
       "      <td>0</td>\n",
       "      <td>0</td>\n",
       "      <td>0</td>\n",
       "      <td>1</td>\n",
       "    </tr>\n",
       "  </tbody>\n",
       "</table>\n",
       "<p>5089 rows × 7 columns</p>\n",
       "</div>"
      ],
      "text/plain": [
       "      AgeInDays  TotalDay1Revenue  Gender_M  Country_FR  Country_GB  \\\n",
       "0       12958.0              0.00         0           0           1   \n",
       "1       15771.0              0.00         1           0           0   \n",
       "2       19586.0              0.00         1           0           1   \n",
       "3       13154.0              0.00         0           0           0   \n",
       "4       19849.0              0.00         1           0           1   \n",
       "...         ...               ...       ...         ...         ...   \n",
       "5084    19889.0             37.52         1           1           0   \n",
       "5085    14758.0             30.00         0           0           1   \n",
       "5086    12403.0             30.00         1           0           1   \n",
       "5087     9586.0             17.05         0           0           0   \n",
       "5088     9961.0             42.63         1           0           0   \n",
       "\n",
       "      Country_Other  Country_US  \n",
       "0                 0           0  \n",
       "1                 1           0  \n",
       "2                 0           0  \n",
       "3                 0           1  \n",
       "4                 0           0  \n",
       "...             ...         ...  \n",
       "5084              0           0  \n",
       "5085              0           0  \n",
       "5086              0           0  \n",
       "5087              0           1  \n",
       "5088              0           1  \n",
       "\n",
       "[5089 rows x 7 columns]"
      ]
     },
     "execution_count": 61,
     "metadata": {},
     "output_type": "execute_result"
    }
   ],
   "source": [
    "X"
   ]
  },
  {
   "cell_type": "code",
   "execution_count": 62,
   "id": "b1e795d5",
   "metadata": {},
   "outputs": [
    {
     "name": "stdout",
     "output_type": "stream",
     "text": [
      "                            OLS Regression Results                            \n",
      "==============================================================================\n",
      "Dep. Variable:      TotalWeek1Revenue   R-squared:                       0.558\n",
      "Model:                            OLS   Adj. R-squared:                  0.557\n",
      "Method:                 Least Squares   F-statistic:                     916.6\n",
      "Date:                Sat, 06 Nov 2021   Prob (F-statistic):               0.00\n",
      "Time:                        16:56:35   Log-Likelihood:                -37824.\n",
      "No. Observations:                5089   AIC:                         7.566e+04\n",
      "Df Residuals:                    5081   BIC:                         7.572e+04\n",
      "Df Model:                           7                                         \n",
      "Covariance Type:            nonrobust                                         \n",
      "====================================================================================\n",
      "                       coef    std err          t      P>|t|      [0.025      0.975]\n",
      "------------------------------------------------------------------------------------\n",
      "const              -13.3028     29.789     -0.447      0.655     -71.702      45.096\n",
      "AgeInDays            0.0027      0.001      1.900      0.057   -8.53e-05       0.005\n",
      "TotalDay1Revenue     1.3405      0.017     79.720      0.000       1.308       1.373\n",
      "Gender_M             1.4383     13.885      0.104      0.918     -25.783      28.659\n",
      "Country_FR          36.6282     24.593      1.489      0.136     -11.584      84.840\n",
      "Country_GB          23.1941     16.630      1.395      0.163      -9.408      55.796\n",
      "Country_Other        8.0287     21.275      0.377      0.706     -33.680      49.738\n",
      "Country_US           8.5171     19.579      0.435      0.664     -29.867      46.901\n",
      "==============================================================================\n",
      "Omnibus:                     9485.172   Durbin-Watson:                   1.961\n",
      "Prob(Omnibus):                  0.000   Jarque-Bera (JB):         22205440.301\n",
      "Skew:                          13.805   Prob(JB):                         0.00\n",
      "Kurtosis:                     325.428   Cond. No.                     1.03e+05\n",
      "==============================================================================\n",
      "\n",
      "Notes:\n",
      "[1] Standard Errors assume that the covariance matrix of the errors is correctly specified.\n",
      "[2] The condition number is large, 1.03e+05. This might indicate that there are\n",
      "strong multicollinearity or other numerical problems.\n"
     ]
    }
   ],
   "source": [
    "# statsmodels Ordinary Least Squares\n",
    "import statsmodels.api as sm\n",
    "from scipy import stats\n",
    "\n",
    "X2 = sm.add_constant(X)\n",
    "est = sm.OLS(y, X2)\n",
    "est2 = est.fit()\n",
    "print(est2.summary())"
   ]
  },
  {
   "cell_type": "code",
   "execution_count": 63,
   "id": "ead13e71",
   "metadata": {},
   "outputs": [],
   "source": [
    "def sklearn_lin_reg_p_val_calc(X, y):\n",
    "    \"\"\"\n",
    "        replicate p values for sklearn, source: \n",
    "        stackoverflow.com/questions/27928275/find-p-value-significance-in-scikit-learn-linearregression\n",
    "    X: pandas df of features\n",
    "    y: pandas df of target\n",
    "    \"\"\" \n",
    "    from sklearn.linear_model import LinearRegression\n",
    "    \n",
    "    model = LinearRegression().fit(X, y)\n",
    "\n",
    "    params = np.append(model.intercept_,model.coef_)\n",
    "    predictions = model.predict(X)\n",
    "\n",
    "    newX = pd.DataFrame({\"Constant\":np.ones(len(X))}).join(pd.DataFrame(X))\n",
    "    MSE = (sum((y-predictions)**2))/(len(newX)-len(newX.columns))\n",
    "\n",
    "    var_b = MSE*(np.linalg.inv(np.dot(newX.T,newX)).diagonal())\n",
    "    sd_b = np.sqrt(var_b)\n",
    "    ts_b = params/ sd_b\n",
    "\n",
    "\n",
    "    p_values =[2*(1-stats.t.cdf(np.abs(i),(newX.shape[0]-newX.shape[1]))) for i in ts_b]\n",
    "\n",
    "    sd_b = np.round(sd_b,3)\n",
    "    ts_b = np.round(ts_b,3)\n",
    "    p_values = np.round(p_values,3)\n",
    "    params = np.round(params,4)\n",
    "\n",
    "    df_sklearn_p_vals = pd.DataFrame()\n",
    "    vars_and_intcpt = [\"Intercept\"]\n",
    "    vars_and_intcpt += X.columns.tolist()\n",
    "    \n",
    "    df_sklearn_p_vals[\"Variables\"],df_sklearn_p_vals[\"Coefficients\"],df_sklearn_p_vals[\"Standard Errors\"],df_sklearn_p_vals[\"t values\"],df_sklearn_p_vals[\"Probabilities\"] = [vars_and_intcpt,params,sd_b,ts_b,p_values]\n",
    "\n",
    "    return df_sklearn_p_vals"
   ]
  },
  {
   "cell_type": "code",
   "execution_count": 64,
   "id": "de850894",
   "metadata": {},
   "outputs": [],
   "source": [
    "coefs_and_p_vals = sklearn_lin_reg_p_val_calc(X, y)"
   ]
  },
  {
   "cell_type": "code",
   "execution_count": 65,
   "id": "801116cc",
   "metadata": {},
   "outputs": [],
   "source": [
    "stat_sig_vars = coefs_and_p_vals.loc[coefs_and_p_vals[\"Probabilities\"] < 0.05,\"Variables\"].to_list()"
   ]
  },
  {
   "cell_type": "code",
   "execution_count": 66,
   "id": "52e3f29b",
   "metadata": {},
   "outputs": [],
   "source": [
    "logging.info(f\"The statistically significant variables at a 5% level are {stat_sig_vars}\")"
   ]
  },
  {
   "cell_type": "markdown",
   "id": "f35b0f3a",
   "metadata": {},
   "source": [
    "### Predict for 40-year-old French, German and British women having generated GBP 20 on RegDate"
   ]
  },
  {
   "cell_type": "code",
   "execution_count": 67,
   "id": "dc5713ac",
   "metadata": {},
   "outputs": [],
   "source": [
    "predict_X = pd.DataFrame(columns=X.columns)"
   ]
  },
  {
   "cell_type": "code",
   "execution_count": 68,
   "id": "01a4c706",
   "metadata": {},
   "outputs": [
    {
     "data": {
      "text/html": [
       "<div>\n",
       "<style scoped>\n",
       "    .dataframe tbody tr th:only-of-type {\n",
       "        vertical-align: middle;\n",
       "    }\n",
       "\n",
       "    .dataframe tbody tr th {\n",
       "        vertical-align: top;\n",
       "    }\n",
       "\n",
       "    .dataframe thead th {\n",
       "        text-align: right;\n",
       "    }\n",
       "</style>\n",
       "<table border=\"1\" class=\"dataframe\">\n",
       "  <thead>\n",
       "    <tr style=\"text-align: right;\">\n",
       "      <th></th>\n",
       "      <th>AgeInDays</th>\n",
       "      <th>TotalDay1Revenue</th>\n",
       "      <th>Gender_M</th>\n",
       "      <th>Country_FR</th>\n",
       "      <th>Country_GB</th>\n",
       "      <th>Country_Other</th>\n",
       "      <th>Country_US</th>\n",
       "    </tr>\n",
       "  </thead>\n",
       "  <tbody>\n",
       "  </tbody>\n",
       "</table>\n",
       "</div>"
      ],
      "text/plain": [
       "Empty DataFrame\n",
       "Columns: [AgeInDays, TotalDay1Revenue, Gender_M, Country_FR, Country_GB, Country_Other, Country_US]\n",
       "Index: []"
      ]
     },
     "execution_count": 68,
     "metadata": {},
     "output_type": "execute_result"
    }
   ],
   "source": [
    "predict_X"
   ]
  },
  {
   "cell_type": "code",
   "execution_count": 69,
   "id": "46a04f80",
   "metadata": {},
   "outputs": [],
   "source": [
    "predict_X.loc[len(predict_X.index)] = [40*365, 20, 0, 1, 0, 0, 0] # french women\n",
    "predict_X.loc[len(predict_X.index)] = [40*365, 20, 0, 0, 0, 0, 0] # german women\n",
    "predict_X.loc[len(predict_X.index)] = [40*365, 20, 0, 0, 1, 0, 0] # british women"
   ]
  },
  {
   "cell_type": "code",
   "execution_count": 70,
   "id": "0b1cff8f",
   "metadata": {},
   "outputs": [
    {
     "data": {
      "text/html": [
       "<div>\n",
       "<style scoped>\n",
       "    .dataframe tbody tr th:only-of-type {\n",
       "        vertical-align: middle;\n",
       "    }\n",
       "\n",
       "    .dataframe tbody tr th {\n",
       "        vertical-align: top;\n",
       "    }\n",
       "\n",
       "    .dataframe thead th {\n",
       "        text-align: right;\n",
       "    }\n",
       "</style>\n",
       "<table border=\"1\" class=\"dataframe\">\n",
       "  <thead>\n",
       "    <tr style=\"text-align: right;\">\n",
       "      <th></th>\n",
       "      <th>AgeInDays</th>\n",
       "      <th>TotalDay1Revenue</th>\n",
       "      <th>Gender_M</th>\n",
       "      <th>Country_FR</th>\n",
       "      <th>Country_GB</th>\n",
       "      <th>Country_Other</th>\n",
       "      <th>Country_US</th>\n",
       "    </tr>\n",
       "  </thead>\n",
       "  <tbody>\n",
       "    <tr>\n",
       "      <th>0</th>\n",
       "      <td>14600</td>\n",
       "      <td>20</td>\n",
       "      <td>0</td>\n",
       "      <td>1</td>\n",
       "      <td>0</td>\n",
       "      <td>0</td>\n",
       "      <td>0</td>\n",
       "    </tr>\n",
       "    <tr>\n",
       "      <th>1</th>\n",
       "      <td>14600</td>\n",
       "      <td>20</td>\n",
       "      <td>0</td>\n",
       "      <td>0</td>\n",
       "      <td>0</td>\n",
       "      <td>0</td>\n",
       "      <td>0</td>\n",
       "    </tr>\n",
       "    <tr>\n",
       "      <th>2</th>\n",
       "      <td>14600</td>\n",
       "      <td>20</td>\n",
       "      <td>0</td>\n",
       "      <td>0</td>\n",
       "      <td>1</td>\n",
       "      <td>0</td>\n",
       "      <td>0</td>\n",
       "    </tr>\n",
       "  </tbody>\n",
       "</table>\n",
       "</div>"
      ],
      "text/plain": [
       "  AgeInDays TotalDay1Revenue Gender_M Country_FR Country_GB Country_Other  \\\n",
       "0     14600               20        0          1          0             0   \n",
       "1     14600               20        0          0          0             0   \n",
       "2     14600               20        0          0          1             0   \n",
       "\n",
       "  Country_US  \n",
       "0          0  \n",
       "1          0  \n",
       "2          0  "
      ]
     },
     "execution_count": 70,
     "metadata": {},
     "output_type": "execute_result"
    }
   ],
   "source": [
    "predict_X"
   ]
  },
  {
   "cell_type": "code",
   "execution_count": 71,
   "id": "57ca7eed",
   "metadata": {},
   "outputs": [],
   "source": [
    "model = LinearRegression().fit(X, y)"
   ]
  },
  {
   "cell_type": "code",
   "execution_count": 72,
   "id": "d6c09005",
   "metadata": {},
   "outputs": [
    {
     "data": {
      "text/plain": [
       "array([89.24146118, 52.61323108, 75.80737494])"
      ]
     },
     "execution_count": 72,
     "metadata": {},
     "output_type": "execute_result"
    }
   ],
   "source": [
    "model.predict(predict_X)"
   ]
  },
  {
   "cell_type": "code",
   "execution_count": 73,
   "id": "7d7a6107",
   "metadata": {},
   "outputs": [],
   "source": [
    "french_women_1week_earn = round(model.predict(predict_X)[0], 2)\n",
    "german_women_1week_earn = round(model.predict(predict_X)[1], 2)\n",
    "british_women_1week_earn = round(model.predict(predict_X)[2], 2)"
   ]
  },
  {
   "cell_type": "code",
   "execution_count": 74,
   "id": "7032450a",
   "metadata": {},
   "outputs": [],
   "source": [
    "logging.info(f\"The average 40-year-old French woman, having generated GBP 20 on registration date, would expect to earn {french_women_1week_earn} in her first week\")\n",
    "logging.info(f\"The average 40-year-old German woman, having generated GBP 20 on registration date, would expect to earn {german_women_1week_earn} in her first week\")\n",
    "logging.info(f\"The average 40-year-old British woman, having generated GBP 20 on registration date, would expect to earn {british_women_1week_earn} in her first week\")"
   ]
  },
  {
   "cell_type": "code",
   "execution_count": null,
   "id": "89afa1a4",
   "metadata": {},
   "outputs": [],
   "source": []
  }
 ],
 "metadata": {
  "kernelspec": {
   "display_name": "Python 3",
   "language": "python",
   "name": "python3"
  },
  "language_info": {
   "codemirror_mode": {
    "name": "ipython",
    "version": 3
   },
   "file_extension": ".py",
   "mimetype": "text/x-python",
   "name": "python",
   "nbconvert_exporter": "python",
   "pygments_lexer": "ipython3",
   "version": "3.8.8"
  }
 },
 "nbformat": 4,
 "nbformat_minor": 5
}
