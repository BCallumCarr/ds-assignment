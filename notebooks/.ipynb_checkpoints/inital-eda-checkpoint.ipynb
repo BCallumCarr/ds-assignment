{
 "cells": [
  {
   "cell_type": "code",
   "execution_count": 1,
   "id": "cafef74b",
   "metadata": {},
   "outputs": [],
   "source": [
    "#!/usr/bin/env\n",
    "#\n",
    "# author: Brad Carruthers\n",
    "# author_mail: brad@securewealth.co.za"
   ]
  },
  {
   "cell_type": "code",
   "execution_count": 55,
   "id": "e3b6627a",
   "metadata": {},
   "outputs": [],
   "source": [
    "import logging\n",
    "import pandas as pd\n",
    "from datetime import date\n",
    "\n",
    "logging.basicConfig(level=logging.INFO, filename='app.log', filemode='w', format='%(name)s - %(levelname)s - %(message)s')"
   ]
  },
  {
   "cell_type": "markdown",
   "id": "689ad48c",
   "metadata": {},
   "source": [
    "## Block A"
   ]
  },
  {
   "cell_type": "code",
   "execution_count": 8,
   "id": "e299b7bc",
   "metadata": {},
   "outputs": [
    {
     "name": "stdout",
     "output_type": "stream",
     "text": [
      "There are 2 variables and one key in activities.csv\n",
      "There are 22642 observations in activities.csv\n"
     ]
    }
   ],
   "source": [
    "logging.info(\"Reading in activities.csv\")\n",
    "df_acts = pd.read_csv(\"../data/activities.csv\", sep=\",\")\n",
    "print(f\"There are {df_acts.shape[1]-1} variables and one key in activities.csv\")\n",
    "print(f\"There are {df_acts.shape[0]} observations in activities.csv\")"
   ]
  },
  {
   "cell_type": "code",
   "execution_count": 9,
   "id": "acd604cb",
   "metadata": {},
   "outputs": [
    {
     "data": {
      "text/html": [
       "<div>\n",
       "<style scoped>\n",
       "    .dataframe tbody tr th:only-of-type {\n",
       "        vertical-align: middle;\n",
       "    }\n",
       "\n",
       "    .dataframe tbody tr th {\n",
       "        vertical-align: top;\n",
       "    }\n",
       "\n",
       "    .dataframe thead th {\n",
       "        text-align: right;\n",
       "    }\n",
       "</style>\n",
       "<table border=\"1\" class=\"dataframe\">\n",
       "  <thead>\n",
       "    <tr style=\"text-align: right;\">\n",
       "      <th></th>\n",
       "      <th>UserId</th>\n",
       "      <th>Date</th>\n",
       "      <th>Revenue</th>\n",
       "    </tr>\n",
       "  </thead>\n",
       "  <tbody>\n",
       "    <tr>\n",
       "      <th>0</th>\n",
       "      <td>1326865</td>\n",
       "      <td>2017-02-19</td>\n",
       "      <td>17.05</td>\n",
       "    </tr>\n",
       "    <tr>\n",
       "      <th>1</th>\n",
       "      <td>1326865</td>\n",
       "      <td>2017-02-28</td>\n",
       "      <td>17.05</td>\n",
       "    </tr>\n",
       "    <tr>\n",
       "      <th>2</th>\n",
       "      <td>1326865</td>\n",
       "      <td>2017-03-06</td>\n",
       "      <td>17.16</td>\n",
       "    </tr>\n",
       "    <tr>\n",
       "      <th>3</th>\n",
       "      <td>1326865</td>\n",
       "      <td>2017-03-07</td>\n",
       "      <td>17.16</td>\n",
       "    </tr>\n",
       "    <tr>\n",
       "      <th>4</th>\n",
       "      <td>1326865</td>\n",
       "      <td>2017-03-08</td>\n",
       "      <td>17.16</td>\n",
       "    </tr>\n",
       "    <tr>\n",
       "      <th>...</th>\n",
       "      <td>...</td>\n",
       "      <td>...</td>\n",
       "      <td>...</td>\n",
       "    </tr>\n",
       "    <tr>\n",
       "      <th>22637</th>\n",
       "      <td>3347222</td>\n",
       "      <td>2017-05-15</td>\n",
       "      <td>57.81</td>\n",
       "    </tr>\n",
       "    <tr>\n",
       "      <th>22638</th>\n",
       "      <td>3347251</td>\n",
       "      <td>2017-04-03</td>\n",
       "      <td>30.00</td>\n",
       "    </tr>\n",
       "    <tr>\n",
       "      <th>22639</th>\n",
       "      <td>3347333</td>\n",
       "      <td>2017-01-27</td>\n",
       "      <td>30.00</td>\n",
       "    </tr>\n",
       "    <tr>\n",
       "      <th>22640</th>\n",
       "      <td>3347367</td>\n",
       "      <td>2017-04-04</td>\n",
       "      <td>17.05</td>\n",
       "    </tr>\n",
       "    <tr>\n",
       "      <th>22641</th>\n",
       "      <td>3347450</td>\n",
       "      <td>2017-04-21</td>\n",
       "      <td>42.63</td>\n",
       "    </tr>\n",
       "  </tbody>\n",
       "</table>\n",
       "<p>22642 rows × 3 columns</p>\n",
       "</div>"
      ],
      "text/plain": [
       "        UserId        Date  Revenue\n",
       "0      1326865  2017-02-19    17.05\n",
       "1      1326865  2017-02-28    17.05\n",
       "2      1326865  2017-03-06    17.16\n",
       "3      1326865  2017-03-07    17.16\n",
       "4      1326865  2017-03-08    17.16\n",
       "...        ...         ...      ...\n",
       "22637  3347222  2017-05-15    57.81\n",
       "22638  3347251  2017-04-03    30.00\n",
       "22639  3347333  2017-01-27    30.00\n",
       "22640  3347367  2017-04-04    17.05\n",
       "22641  3347450  2017-04-21    42.63\n",
       "\n",
       "[22642 rows x 3 columns]"
      ]
     },
     "execution_count": 9,
     "metadata": {},
     "output_type": "execute_result"
    }
   ],
   "source": [
    "df_acts"
   ]
  },
  {
   "cell_type": "code",
   "execution_count": 11,
   "id": "d4ccbe3c",
   "metadata": {},
   "outputs": [
    {
     "name": "stdout",
     "output_type": "stream",
     "text": [
      "There are 4 variables and one key in users.csv\n",
      "There are 5807 observations in users.csv\n"
     ]
    }
   ],
   "source": [
    "logging.info(\"Reading in activities.csv\")\n",
    "df_users = pd.read_csv(\"../data/users.csv\", sep=\",\")\n",
    "print(f\"There are {df_users.shape[1]-1} variables and one key in users.csv\")\n",
    "print(f\"There are {df_users.shape[0]} observations in users.csv\")"
   ]
  },
  {
   "cell_type": "code",
   "execution_count": 15,
   "id": "69cf04bf",
   "metadata": {},
   "outputs": [
    {
     "data": {
      "text/html": [
       "<div>\n",
       "<style scoped>\n",
       "    .dataframe tbody tr th:only-of-type {\n",
       "        vertical-align: middle;\n",
       "    }\n",
       "\n",
       "    .dataframe tbody tr th {\n",
       "        vertical-align: top;\n",
       "    }\n",
       "\n",
       "    .dataframe thead th {\n",
       "        text-align: right;\n",
       "    }\n",
       "</style>\n",
       "<table border=\"1\" class=\"dataframe\">\n",
       "  <thead>\n",
       "    <tr style=\"text-align: right;\">\n",
       "      <th></th>\n",
       "      <th>UserId</th>\n",
       "      <th>Country</th>\n",
       "      <th>DOB</th>\n",
       "      <th>Gender</th>\n",
       "      <th>RegDate</th>\n",
       "    </tr>\n",
       "  </thead>\n",
       "  <tbody>\n",
       "    <tr>\n",
       "      <th>0</th>\n",
       "      <td>1326865</td>\n",
       "      <td>DE</td>\n",
       "      <td>1988-05-04</td>\n",
       "      <td>M</td>\n",
       "      <td>2016-03-24</td>\n",
       "    </tr>\n",
       "    <tr>\n",
       "      <th>1</th>\n",
       "      <td>1333278</td>\n",
       "      <td>GB</td>\n",
       "      <td>1971-07-21</td>\n",
       "      <td>M</td>\n",
       "      <td>2016-02-09</td>\n",
       "    </tr>\n",
       "    <tr>\n",
       "      <th>2</th>\n",
       "      <td>1336967</td>\n",
       "      <td>GB</td>\n",
       "      <td>1983-07-31</td>\n",
       "      <td>M</td>\n",
       "      <td>2016-01-29</td>\n",
       "    </tr>\n",
       "    <tr>\n",
       "      <th>3</th>\n",
       "      <td>1339784</td>\n",
       "      <td>Other</td>\n",
       "      <td>1976-09-21</td>\n",
       "      <td>M</td>\n",
       "      <td>2016-01-21</td>\n",
       "    </tr>\n",
       "    <tr>\n",
       "      <th>4</th>\n",
       "      <td>1339829</td>\n",
       "      <td>Other</td>\n",
       "      <td>1981-05-03</td>\n",
       "      <td>F</td>\n",
       "      <td>2016-04-12</td>\n",
       "    </tr>\n",
       "    <tr>\n",
       "      <th>...</th>\n",
       "      <td>...</td>\n",
       "      <td>...</td>\n",
       "      <td>...</td>\n",
       "      <td>...</td>\n",
       "      <td>...</td>\n",
       "    </tr>\n",
       "    <tr>\n",
       "      <th>5802</th>\n",
       "      <td>3347222</td>\n",
       "      <td>FR</td>\n",
       "      <td>1967-05-25</td>\n",
       "      <td></td>\n",
       "      <td>2017-03-22</td>\n",
       "    </tr>\n",
       "    <tr>\n",
       "      <th>5803</th>\n",
       "      <td>3347251</td>\n",
       "      <td>GB</td>\n",
       "      <td>1981-06-11</td>\n",
       "      <td>F</td>\n",
       "      <td>2017-04-03</td>\n",
       "    </tr>\n",
       "    <tr>\n",
       "      <th>5804</th>\n",
       "      <td>3347333</td>\n",
       "      <td>GB</td>\n",
       "      <td>1987-11-22</td>\n",
       "      <td></td>\n",
       "      <td>2017-01-27</td>\n",
       "    </tr>\n",
       "    <tr>\n",
       "      <th>5805</th>\n",
       "      <td>3347367</td>\n",
       "      <td>US</td>\n",
       "      <td>1995-08-09</td>\n",
       "      <td>F</td>\n",
       "      <td>2017-04-04</td>\n",
       "    </tr>\n",
       "    <tr>\n",
       "      <th>5806</th>\n",
       "      <td>3347450</td>\n",
       "      <td>US</td>\n",
       "      <td>1994-07-30</td>\n",
       "      <td>M</td>\n",
       "      <td>2017-04-21</td>\n",
       "    </tr>\n",
       "  </tbody>\n",
       "</table>\n",
       "<p>5807 rows × 5 columns</p>\n",
       "</div>"
      ],
      "text/plain": [
       "       UserId Country         DOB Gender     RegDate\n",
       "0     1326865      DE  1988-05-04      M  2016-03-24\n",
       "1     1333278      GB  1971-07-21      M  2016-02-09\n",
       "2     1336967      GB  1983-07-31      M  2016-01-29\n",
       "3     1339784   Other  1976-09-21      M  2016-01-21\n",
       "4     1339829   Other  1981-05-03      F  2016-04-12\n",
       "...       ...     ...         ...    ...         ...\n",
       "5802  3347222      FR  1967-05-25         2017-03-22\n",
       "5803  3347251      GB  1981-06-11      F  2017-04-03\n",
       "5804  3347333      GB  1987-11-22         2017-01-27\n",
       "5805  3347367      US  1995-08-09      F  2017-04-04\n",
       "5806  3347450      US  1994-07-30      M  2017-04-21\n",
       "\n",
       "[5807 rows x 5 columns]"
      ]
     },
     "execution_count": 15,
     "metadata": {},
     "output_type": "execute_result"
    }
   ],
   "source": [
    "df_users"
   ]
  },
  {
   "cell_type": "code",
   "execution_count": 29,
   "id": "e6f2dc67",
   "metadata": {},
   "outputs": [
    {
     "data": {
      "text/plain": [
       "array(['M', 'F', ' '], dtype=object)"
      ]
     },
     "execution_count": 29,
     "metadata": {},
     "output_type": "execute_result"
    }
   ],
   "source": [
    "df_users[\"Gender\"].unique()"
   ]
  },
  {
   "cell_type": "code",
   "execution_count": 32,
   "id": "a3a11f70",
   "metadata": {},
   "outputs": [],
   "source": [
    "male_counts = df_users[\"Gender\"].value_counts()[\"M\"]\n",
    "female_counts = df_users[\"Gender\"].value_counts()[\"F\"]\n",
    "missing_gender = df_users[\"Gender\"].value_counts()[\" \"]"
   ]
  },
  {
   "cell_type": "code",
   "execution_count": 33,
   "id": "eaa8c932",
   "metadata": {},
   "outputs": [
    {
     "name": "stdout",
     "output_type": "stream",
     "text": [
      "There are 2909 males observations in users.csv\n",
      "There are 1417 female observations in users.csv\n",
      "There are 1481 missing Gender observations in users.csv\n"
     ]
    }
   ],
   "source": [
    "print(f\"There are {male_counts} males observations in users.csv\")\n",
    "print(f\"There are {female_counts} female observations in users.csv\")\n",
    "print(f\"There are {missing_gender} missing Gender observations in users.csv\")"
   ]
  },
  {
   "cell_type": "code",
   "execution_count": 50,
   "id": "e26a353f",
   "metadata": {},
   "outputs": [],
   "source": [
    "# impute Male for missing Genders\n",
    "bool_missing_gender = df_users.loc[:,\"Gender\"] == \" \"\n",
    "\n",
    "df_users.loc[bool_missing_gender,\"Gender\"] = \"M\""
   ]
  },
  {
   "cell_type": "code",
   "execution_count": 52,
   "id": "737def1d",
   "metadata": {},
   "outputs": [],
   "source": [
    "df_acts_users = pd.merge(\n",
    "    left=df_acts,\n",
    "    right=df_users,\n",
    "    left_on=\"UserId\",\n",
    "    right_on=\"UserId\",\n",
    "    how=\"left\"\n",
    ")"
   ]
  },
  {
   "cell_type": "code",
   "execution_count": 53,
   "id": "39e8d3bd",
   "metadata": {},
   "outputs": [
    {
     "data": {
      "text/html": [
       "<div>\n",
       "<style scoped>\n",
       "    .dataframe tbody tr th:only-of-type {\n",
       "        vertical-align: middle;\n",
       "    }\n",
       "\n",
       "    .dataframe tbody tr th {\n",
       "        vertical-align: top;\n",
       "    }\n",
       "\n",
       "    .dataframe thead th {\n",
       "        text-align: right;\n",
       "    }\n",
       "</style>\n",
       "<table border=\"1\" class=\"dataframe\">\n",
       "  <thead>\n",
       "    <tr style=\"text-align: right;\">\n",
       "      <th></th>\n",
       "      <th>UserId</th>\n",
       "      <th>Date</th>\n",
       "      <th>Revenue</th>\n",
       "      <th>Country</th>\n",
       "      <th>DOB</th>\n",
       "      <th>Gender</th>\n",
       "      <th>RegDate</th>\n",
       "    </tr>\n",
       "  </thead>\n",
       "  <tbody>\n",
       "    <tr>\n",
       "      <th>0</th>\n",
       "      <td>1326865</td>\n",
       "      <td>2017-02-19</td>\n",
       "      <td>17.05</td>\n",
       "      <td>DE</td>\n",
       "      <td>1988-05-04</td>\n",
       "      <td>M</td>\n",
       "      <td>2016-03-24</td>\n",
       "    </tr>\n",
       "    <tr>\n",
       "      <th>1</th>\n",
       "      <td>1326865</td>\n",
       "      <td>2017-02-28</td>\n",
       "      <td>17.05</td>\n",
       "      <td>DE</td>\n",
       "      <td>1988-05-04</td>\n",
       "      <td>M</td>\n",
       "      <td>2016-03-24</td>\n",
       "    </tr>\n",
       "    <tr>\n",
       "      <th>2</th>\n",
       "      <td>1326865</td>\n",
       "      <td>2017-03-06</td>\n",
       "      <td>17.16</td>\n",
       "      <td>DE</td>\n",
       "      <td>1988-05-04</td>\n",
       "      <td>M</td>\n",
       "      <td>2016-03-24</td>\n",
       "    </tr>\n",
       "    <tr>\n",
       "      <th>3</th>\n",
       "      <td>1326865</td>\n",
       "      <td>2017-03-07</td>\n",
       "      <td>17.16</td>\n",
       "      <td>DE</td>\n",
       "      <td>1988-05-04</td>\n",
       "      <td>M</td>\n",
       "      <td>2016-03-24</td>\n",
       "    </tr>\n",
       "    <tr>\n",
       "      <th>4</th>\n",
       "      <td>1326865</td>\n",
       "      <td>2017-03-08</td>\n",
       "      <td>17.16</td>\n",
       "      <td>DE</td>\n",
       "      <td>1988-05-04</td>\n",
       "      <td>M</td>\n",
       "      <td>2016-03-24</td>\n",
       "    </tr>\n",
       "    <tr>\n",
       "      <th>...</th>\n",
       "      <td>...</td>\n",
       "      <td>...</td>\n",
       "      <td>...</td>\n",
       "      <td>...</td>\n",
       "      <td>...</td>\n",
       "      <td>...</td>\n",
       "      <td>...</td>\n",
       "    </tr>\n",
       "    <tr>\n",
       "      <th>22637</th>\n",
       "      <td>3347222</td>\n",
       "      <td>2017-05-15</td>\n",
       "      <td>57.81</td>\n",
       "      <td>FR</td>\n",
       "      <td>1967-05-25</td>\n",
       "      <td>M</td>\n",
       "      <td>2017-03-22</td>\n",
       "    </tr>\n",
       "    <tr>\n",
       "      <th>22638</th>\n",
       "      <td>3347251</td>\n",
       "      <td>2017-04-03</td>\n",
       "      <td>30.00</td>\n",
       "      <td>GB</td>\n",
       "      <td>1981-06-11</td>\n",
       "      <td>F</td>\n",
       "      <td>2017-04-03</td>\n",
       "    </tr>\n",
       "    <tr>\n",
       "      <th>22639</th>\n",
       "      <td>3347333</td>\n",
       "      <td>2017-01-27</td>\n",
       "      <td>30.00</td>\n",
       "      <td>GB</td>\n",
       "      <td>1987-11-22</td>\n",
       "      <td>M</td>\n",
       "      <td>2017-01-27</td>\n",
       "    </tr>\n",
       "    <tr>\n",
       "      <th>22640</th>\n",
       "      <td>3347367</td>\n",
       "      <td>2017-04-04</td>\n",
       "      <td>17.05</td>\n",
       "      <td>US</td>\n",
       "      <td>1995-08-09</td>\n",
       "      <td>F</td>\n",
       "      <td>2017-04-04</td>\n",
       "    </tr>\n",
       "    <tr>\n",
       "      <th>22641</th>\n",
       "      <td>3347450</td>\n",
       "      <td>2017-04-21</td>\n",
       "      <td>42.63</td>\n",
       "      <td>US</td>\n",
       "      <td>1994-07-30</td>\n",
       "      <td>M</td>\n",
       "      <td>2017-04-21</td>\n",
       "    </tr>\n",
       "  </tbody>\n",
       "</table>\n",
       "<p>22642 rows × 7 columns</p>\n",
       "</div>"
      ],
      "text/plain": [
       "        UserId        Date  Revenue Country         DOB Gender     RegDate\n",
       "0      1326865  2017-02-19    17.05      DE  1988-05-04      M  2016-03-24\n",
       "1      1326865  2017-02-28    17.05      DE  1988-05-04      M  2016-03-24\n",
       "2      1326865  2017-03-06    17.16      DE  1988-05-04      M  2016-03-24\n",
       "3      1326865  2017-03-07    17.16      DE  1988-05-04      M  2016-03-24\n",
       "4      1326865  2017-03-08    17.16      DE  1988-05-04      M  2016-03-24\n",
       "...        ...         ...      ...     ...         ...    ...         ...\n",
       "22637  3347222  2017-05-15    57.81      FR  1967-05-25      M  2017-03-22\n",
       "22638  3347251  2017-04-03    30.00      GB  1981-06-11      F  2017-04-03\n",
       "22639  3347333  2017-01-27    30.00      GB  1987-11-22      M  2017-01-27\n",
       "22640  3347367  2017-04-04    17.05      US  1995-08-09      F  2017-04-04\n",
       "22641  3347450  2017-04-21    42.63      US  1994-07-30      M  2017-04-21\n",
       "\n",
       "[22642 rows x 7 columns]"
      ]
     },
     "execution_count": 53,
     "metadata": {},
     "output_type": "execute_result"
    }
   ],
   "source": [
    "df_acts_users"
   ]
  },
  {
   "cell_type": "code",
   "execution_count": 63,
   "id": "e1404a94",
   "metadata": {},
   "outputs": [
    {
     "data": {
      "text/plain": [
       "UserId              int64\n",
       "Date       datetime64[ns]\n",
       "Revenue           float64\n",
       "Country            object\n",
       "DOB        datetime64[ns]\n",
       "Gender             object\n",
       "RegDate    datetime64[ns]\n",
       "dtype: object"
      ]
     },
     "execution_count": 63,
     "metadata": {},
     "output_type": "execute_result"
    }
   ],
   "source": [
    "df_acts_users.dtypes"
   ]
  },
  {
   "cell_type": "code",
   "execution_count": 62,
   "id": "db044fc5",
   "metadata": {},
   "outputs": [],
   "source": [
    "# convert date cols to pd datetime\n",
    "df_acts_users[\"Date\"] = pd.to_datetime(df_acts_users[\"Date\"], format=\"%Y-%m-%d\")\n",
    "df_acts_users[\"DOB\"] = pd.to_datetime(df_acts_users[\"DOB\"], format=\"%Y-%m-%d\")\n",
    "df_acts_users[\"RegDate\"] = pd.to_datetime(df_acts_users[\"RegDate\"], format=\"%Y-%m-%d\")"
   ]
  },
  {
   "cell_type": "code",
   "execution_count": 66,
   "id": "4c27ba6b",
   "metadata": {},
   "outputs": [
    {
     "data": {
      "text/plain": [
       "0        3\n",
       "1        3\n",
       "2        3\n",
       "3        3\n",
       "4        3\n",
       "        ..\n",
       "22637    3\n",
       "22638    4\n",
       "22639    1\n",
       "22640    4\n",
       "22641    4\n",
       "Name: RegDate, Length: 22642, dtype: int64"
      ]
     },
     "execution_count": 66,
     "metadata": {},
     "output_type": "execute_result"
    }
   ],
   "source": [
    "df_acts_users[\"DaysRegtoDate\"] = df_acts_users[\"Date\"] - df_acts_users[\"RegDate\"]"
   ]
  },
  {
   "cell_type": "code",
   "execution_count": 79,
   "id": "25f76238",
   "metadata": {},
   "outputs": [],
   "source": [
    "df_acts_users[\"DaysRegtoToday\"] = pd.to_datetime(date.today(), format=\"%Y-%m-%d\") - df_acts_users[\"Date\"]"
   ]
  },
  {
   "cell_type": "code",
   "execution_count": 87,
   "id": "fb388d2a",
   "metadata": {},
   "outputs": [
    {
     "data": {
      "text/html": [
       "<div>\n",
       "<style scoped>\n",
       "    .dataframe tbody tr th:only-of-type {\n",
       "        vertical-align: middle;\n",
       "    }\n",
       "\n",
       "    .dataframe tbody tr th {\n",
       "        vertical-align: top;\n",
       "    }\n",
       "\n",
       "    .dataframe thead th {\n",
       "        text-align: right;\n",
       "    }\n",
       "</style>\n",
       "<table border=\"1\" class=\"dataframe\">\n",
       "  <thead>\n",
       "    <tr style=\"text-align: right;\">\n",
       "      <th></th>\n",
       "      <th>UserId</th>\n",
       "      <th>Revenue</th>\n",
       "    </tr>\n",
       "  </thead>\n",
       "  <tbody>\n",
       "    <tr>\n",
       "      <th>0</th>\n",
       "      <td>1326865</td>\n",
       "      <td>18.495789</td>\n",
       "    </tr>\n",
       "    <tr>\n",
       "      <th>1</th>\n",
       "      <td>1333278</td>\n",
       "      <td>22.500000</td>\n",
       "    </tr>\n",
       "    <tr>\n",
       "      <th>2</th>\n",
       "      <td>1336967</td>\n",
       "      <td>20.000000</td>\n",
       "    </tr>\n",
       "    <tr>\n",
       "      <th>3</th>\n",
       "      <td>1339784</td>\n",
       "      <td>29.640000</td>\n",
       "    </tr>\n",
       "    <tr>\n",
       "      <th>4</th>\n",
       "      <td>1339829</td>\n",
       "      <td>17.050000</td>\n",
       "    </tr>\n",
       "    <tr>\n",
       "      <th>...</th>\n",
       "      <td>...</td>\n",
       "      <td>...</td>\n",
       "    </tr>\n",
       "    <tr>\n",
       "      <th>5792</th>\n",
       "      <td>3347222</td>\n",
       "      <td>38.378333</td>\n",
       "    </tr>\n",
       "    <tr>\n",
       "      <th>5793</th>\n",
       "      <td>3347251</td>\n",
       "      <td>30.000000</td>\n",
       "    </tr>\n",
       "    <tr>\n",
       "      <th>5794</th>\n",
       "      <td>3347333</td>\n",
       "      <td>30.000000</td>\n",
       "    </tr>\n",
       "    <tr>\n",
       "      <th>5795</th>\n",
       "      <td>3347367</td>\n",
       "      <td>17.050000</td>\n",
       "    </tr>\n",
       "    <tr>\n",
       "      <th>5796</th>\n",
       "      <td>3347450</td>\n",
       "      <td>42.630000</td>\n",
       "    </tr>\n",
       "  </tbody>\n",
       "</table>\n",
       "<p>5797 rows × 2 columns</p>\n",
       "</div>"
      ],
      "text/plain": [
       "       UserId    Revenue\n",
       "0     1326865  18.495789\n",
       "1     1333278  22.500000\n",
       "2     1336967  20.000000\n",
       "3     1339784  29.640000\n",
       "4     1339829  17.050000\n",
       "...       ...        ...\n",
       "5792  3347222  38.378333\n",
       "5793  3347251  30.000000\n",
       "5794  3347333  30.000000\n",
       "5795  3347367  17.050000\n",
       "5796  3347450  42.630000\n",
       "\n",
       "[5797 rows x 2 columns]"
      ]
     },
     "execution_count": 87,
     "metadata": {},
     "output_type": "execute_result"
    }
   ],
   "source": [
    "df_acts_users.groupby(\"UserId\").agg(\"mean\").reset_index()"
   ]
  },
  {
   "cell_type": "code",
   "execution_count": 88,
   "id": "dc4f6382",
   "metadata": {},
   "outputs": [
    {
     "data": {
      "text/html": [
       "<div>\n",
       "<style scoped>\n",
       "    .dataframe tbody tr th:only-of-type {\n",
       "        vertical-align: middle;\n",
       "    }\n",
       "\n",
       "    .dataframe tbody tr th {\n",
       "        vertical-align: top;\n",
       "    }\n",
       "\n",
       "    .dataframe thead th {\n",
       "        text-align: right;\n",
       "    }\n",
       "</style>\n",
       "<table border=\"1\" class=\"dataframe\">\n",
       "  <thead>\n",
       "    <tr style=\"text-align: right;\">\n",
       "      <th></th>\n",
       "      <th>UserId</th>\n",
       "      <th>Revenue</th>\n",
       "    </tr>\n",
       "  </thead>\n",
       "  <tbody>\n",
       "    <tr>\n",
       "      <th>0</th>\n",
       "      <td>1326865</td>\n",
       "      <td>17.16</td>\n",
       "    </tr>\n",
       "    <tr>\n",
       "      <th>1</th>\n",
       "      <td>1333278</td>\n",
       "      <td>22.50</td>\n",
       "    </tr>\n",
       "    <tr>\n",
       "      <th>2</th>\n",
       "      <td>1336967</td>\n",
       "      <td>20.00</td>\n",
       "    </tr>\n",
       "    <tr>\n",
       "      <th>3</th>\n",
       "      <td>1339784</td>\n",
       "      <td>29.64</td>\n",
       "    </tr>\n",
       "    <tr>\n",
       "      <th>4</th>\n",
       "      <td>1339829</td>\n",
       "      <td>17.05</td>\n",
       "    </tr>\n",
       "    <tr>\n",
       "      <th>...</th>\n",
       "      <td>...</td>\n",
       "      <td>...</td>\n",
       "    </tr>\n",
       "    <tr>\n",
       "      <th>5792</th>\n",
       "      <td>3347222</td>\n",
       "      <td>28.40</td>\n",
       "    </tr>\n",
       "    <tr>\n",
       "      <th>5793</th>\n",
       "      <td>3347251</td>\n",
       "      <td>30.00</td>\n",
       "    </tr>\n",
       "    <tr>\n",
       "      <th>5794</th>\n",
       "      <td>3347333</td>\n",
       "      <td>30.00</td>\n",
       "    </tr>\n",
       "    <tr>\n",
       "      <th>5795</th>\n",
       "      <td>3347367</td>\n",
       "      <td>17.05</td>\n",
       "    </tr>\n",
       "    <tr>\n",
       "      <th>5796</th>\n",
       "      <td>3347450</td>\n",
       "      <td>42.63</td>\n",
       "    </tr>\n",
       "  </tbody>\n",
       "</table>\n",
       "<p>5797 rows × 2 columns</p>\n",
       "</div>"
      ],
      "text/plain": [
       "       UserId  Revenue\n",
       "0     1326865    17.16\n",
       "1     1333278    22.50\n",
       "2     1336967    20.00\n",
       "3     1339784    29.64\n",
       "4     1339829    17.05\n",
       "...       ...      ...\n",
       "5792  3347222    28.40\n",
       "5793  3347251    30.00\n",
       "5794  3347333    30.00\n",
       "5795  3347367    17.05\n",
       "5796  3347450    42.63\n",
       "\n",
       "[5797 rows x 2 columns]"
      ]
     },
     "execution_count": 88,
     "metadata": {},
     "output_type": "execute_result"
    }
   ],
   "source": [
    "df_acts_users.groupby(\"UserId\").agg(\"median\").reset_index()"
   ]
  },
  {
   "cell_type": "code",
   "execution_count": 90,
   "id": "7b5061da",
   "metadata": {},
   "outputs": [
    {
     "data": {
      "text/plain": [
       "131.26347009981455"
      ]
     },
     "execution_count": 90,
     "metadata": {},
     "output_type": "execute_result"
    }
   ],
   "source": [
    "df_acts_users[\"Revenue\"].mean()"
   ]
  },
  {
   "cell_type": "code",
   "execution_count": 91,
   "id": "d6fb4313",
   "metadata": {},
   "outputs": [
    {
     "data": {
      "text/plain": [
       "40.0"
      ]
     },
     "execution_count": 91,
     "metadata": {},
     "output_type": "execute_result"
    }
   ],
   "source": [
    "df_acts_users[\"Revenue\"].median()"
   ]
  },
  {
   "cell_type": "code",
   "execution_count": 93,
   "id": "1f745abc",
   "metadata": {},
   "outputs": [
    {
     "data": {
      "text/plain": [
       "19000.0"
      ]
     },
     "execution_count": 93,
     "metadata": {},
     "output_type": "execute_result"
    }
   ],
   "source": [
    "df_acts_users[\"Revenue\"].max()"
   ]
  },
  {
   "cell_type": "code",
   "execution_count": 95,
   "id": "fcd83d38",
   "metadata": {},
   "outputs": [],
   "source": [
    "%matplotlib inline"
   ]
  },
  {
   "cell_type": "code",
   "execution_count": 96,
   "id": "f06e2d36",
   "metadata": {},
   "outputs": [],
   "source": [
    "import matplotlib.pyplot as plt"
   ]
  },
  {
   "cell_type": "code",
   "execution_count": 105,
   "id": "8dd58f85",
   "metadata": {},
   "outputs": [
    {
     "data": {
      "text/plain": [
       "(array([1.9864e+04, 1.3390e+03, 5.9600e+02, 2.4100e+02, 1.7800e+02,\n",
       "        1.1600e+02, 4.4000e+01, 4.1000e+01, 3.6000e+01, 1.4000e+01,\n",
       "        2.7000e+01, 2.1000e+01, 1.5000e+01, 1.7000e+01, 7.0000e+00,\n",
       "        1.4000e+01, 6.0000e+00, 7.0000e+00, 3.0000e+00, 4.0000e+00,\n",
       "        4.0000e+00, 3.0000e+00, 3.0000e+00, 3.0000e+00, 5.0000e+00,\n",
       "        2.0000e+00, 4.0000e+00, 4.0000e+00, 1.0000e+00, 1.0000e+00,\n",
       "        0.0000e+00, 2.0000e+00, 1.0000e+00, 0.0000e+00, 1.0000e+00,\n",
       "        0.0000e+00, 2.0000e+00, 0.0000e+00, 0.0000e+00, 1.0000e+00,\n",
       "        0.0000e+00, 1.0000e+00, 1.0000e+00, 0.0000e+00, 0.0000e+00,\n",
       "        1.0000e+00, 0.0000e+00, 0.0000e+00, 0.0000e+00, 0.0000e+00,\n",
       "        0.0000e+00, 2.0000e+00, 0.0000e+00, 1.0000e+00, 0.0000e+00,\n",
       "        0.0000e+00, 0.0000e+00, 2.0000e+00, 0.0000e+00, 0.0000e+00,\n",
       "        1.0000e+00, 1.0000e+00, 0.0000e+00, 0.0000e+00, 0.0000e+00,\n",
       "        1.0000e+00, 0.0000e+00, 0.0000e+00, 0.0000e+00, 0.0000e+00,\n",
       "        0.0000e+00, 1.0000e+00, 0.0000e+00, 1.0000e+00, 0.0000e+00,\n",
       "        0.0000e+00, 0.0000e+00, 0.0000e+00, 0.0000e+00, 0.0000e+00,\n",
       "        0.0000e+00, 0.0000e+00, 0.0000e+00, 0.0000e+00, 0.0000e+00,\n",
       "        0.0000e+00, 0.0000e+00, 0.0000e+00, 0.0000e+00, 0.0000e+00,\n",
       "        0.0000e+00, 0.0000e+00, 0.0000e+00, 0.0000e+00, 0.0000e+00,\n",
       "        0.0000e+00, 0.0000e+00, 0.0000e+00, 0.0000e+00, 2.0000e+00]),\n",
       " array([1.100000e+01, 2.008900e+02, 3.907800e+02, 5.806700e+02,\n",
       "        7.705600e+02, 9.604500e+02, 1.150340e+03, 1.340230e+03,\n",
       "        1.530120e+03, 1.720010e+03, 1.909900e+03, 2.099790e+03,\n",
       "        2.289680e+03, 2.479570e+03, 2.669460e+03, 2.859350e+03,\n",
       "        3.049240e+03, 3.239130e+03, 3.429020e+03, 3.618910e+03,\n",
       "        3.808800e+03, 3.998690e+03, 4.188580e+03, 4.378470e+03,\n",
       "        4.568360e+03, 4.758250e+03, 4.948140e+03, 5.138030e+03,\n",
       "        5.327920e+03, 5.517810e+03, 5.707700e+03, 5.897590e+03,\n",
       "        6.087480e+03, 6.277370e+03, 6.467260e+03, 6.657150e+03,\n",
       "        6.847040e+03, 7.036930e+03, 7.226820e+03, 7.416710e+03,\n",
       "        7.606600e+03, 7.796490e+03, 7.986380e+03, 8.176270e+03,\n",
       "        8.366160e+03, 8.556050e+03, 8.745940e+03, 8.935830e+03,\n",
       "        9.125720e+03, 9.315610e+03, 9.505500e+03, 9.695390e+03,\n",
       "        9.885280e+03, 1.007517e+04, 1.026506e+04, 1.045495e+04,\n",
       "        1.064484e+04, 1.083473e+04, 1.102462e+04, 1.121451e+04,\n",
       "        1.140440e+04, 1.159429e+04, 1.178418e+04, 1.197407e+04,\n",
       "        1.216396e+04, 1.235385e+04, 1.254374e+04, 1.273363e+04,\n",
       "        1.292352e+04, 1.311341e+04, 1.330330e+04, 1.349319e+04,\n",
       "        1.368308e+04, 1.387297e+04, 1.406286e+04, 1.425275e+04,\n",
       "        1.444264e+04, 1.463253e+04, 1.482242e+04, 1.501231e+04,\n",
       "        1.520220e+04, 1.539209e+04, 1.558198e+04, 1.577187e+04,\n",
       "        1.596176e+04, 1.615165e+04, 1.634154e+04, 1.653143e+04,\n",
       "        1.672132e+04, 1.691121e+04, 1.710110e+04, 1.729099e+04,\n",
       "        1.748088e+04, 1.767077e+04, 1.786066e+04, 1.805055e+04,\n",
       "        1.824044e+04, 1.843033e+04, 1.862022e+04, 1.881011e+04,\n",
       "        1.900000e+04]),\n",
       " <BarContainer object of 100 artists>)"
      ]
     },
     "execution_count": 105,
     "metadata": {},
     "output_type": "execute_result"
    },
    {
     "data": {
      "image/png": "[encoded data removed]",
      "text/plain": [
       "<Figure size 432x288 with 1 Axes>"
      ]
     },
     "metadata": {
      "needs_background": "light"
     },
     "output_type": "display_data"
    }
   ],
   "source": [
    "plt.hist(df_acts_users[\"Revenue\"], bins=100)"
   ]
  },
  {
   "cell_type": "code",
   "execution_count": 102,
   "id": "4f0a4cce",
   "metadata": {},
   "outputs": [
    {
     "data": {
      "text/plain": [
       "(array([1.9864e+04, 1.3390e+03, 5.9600e+02, 2.4100e+02, 1.7800e+02,\n",
       "        1.1600e+02, 4.4000e+01, 4.1000e+01, 3.6000e+01, 1.4000e+01,\n",
       "        2.7000e+01, 2.1000e+01, 1.5000e+01, 1.7000e+01, 7.0000e+00,\n",
       "        1.4000e+01, 6.0000e+00, 7.0000e+00, 3.0000e+00, 4.0000e+00,\n",
       "        4.0000e+00, 3.0000e+00, 3.0000e+00, 3.0000e+00, 5.0000e+00,\n",
       "        2.0000e+00, 4.0000e+00, 4.0000e+00, 1.0000e+00, 1.0000e+00,\n",
       "        0.0000e+00, 2.0000e+00, 1.0000e+00, 0.0000e+00, 1.0000e+00,\n",
       "        0.0000e+00, 2.0000e+00, 0.0000e+00, 0.0000e+00, 1.0000e+00,\n",
       "        0.0000e+00, 1.0000e+00, 1.0000e+00, 0.0000e+00, 0.0000e+00,\n",
       "        1.0000e+00, 0.0000e+00, 0.0000e+00, 0.0000e+00, 0.0000e+00,\n",
       "        0.0000e+00, 2.0000e+00, 0.0000e+00, 1.0000e+00, 0.0000e+00,\n",
       "        0.0000e+00, 0.0000e+00, 2.0000e+00, 0.0000e+00, 0.0000e+00,\n",
       "        1.0000e+00, 1.0000e+00, 0.0000e+00, 0.0000e+00, 0.0000e+00,\n",
       "        1.0000e+00, 0.0000e+00, 0.0000e+00, 0.0000e+00, 0.0000e+00,\n",
       "        0.0000e+00, 1.0000e+00, 0.0000e+00, 1.0000e+00, 0.0000e+00,\n",
       "        0.0000e+00, 0.0000e+00, 0.0000e+00, 0.0000e+00, 0.0000e+00,\n",
       "        0.0000e+00, 0.0000e+00, 0.0000e+00, 0.0000e+00, 0.0000e+00,\n",
       "        0.0000e+00, 0.0000e+00, 0.0000e+00, 0.0000e+00, 0.0000e+00,\n",
       "        0.0000e+00, 0.0000e+00, 0.0000e+00, 0.0000e+00, 0.0000e+00,\n",
       "        0.0000e+00, 0.0000e+00, 0.0000e+00, 0.0000e+00, 2.0000e+00]),\n",
       " array([1.100000e+01, 2.008900e+02, 3.907800e+02, 5.806700e+02,\n",
       "        7.705600e+02, 9.604500e+02, 1.150340e+03, 1.340230e+03,\n",
       "        1.530120e+03, 1.720010e+03, 1.909900e+03, 2.099790e+03,\n",
       "        2.289680e+03, 2.479570e+03, 2.669460e+03, 2.859350e+03,\n",
       "        3.049240e+03, 3.239130e+03, 3.429020e+03, 3.618910e+03,\n",
       "        3.808800e+03, 3.998690e+03, 4.188580e+03, 4.378470e+03,\n",
       "        4.568360e+03, 4.758250e+03, 4.948140e+03, 5.138030e+03,\n",
       "        5.327920e+03, 5.517810e+03, 5.707700e+03, 5.897590e+03,\n",
       "        6.087480e+03, 6.277370e+03, 6.467260e+03, 6.657150e+03,\n",
       "        6.847040e+03, 7.036930e+03, 7.226820e+03, 7.416710e+03,\n",
       "        7.606600e+03, 7.796490e+03, 7.986380e+03, 8.176270e+03,\n",
       "        8.366160e+03, 8.556050e+03, 8.745940e+03, 8.935830e+03,\n",
       "        9.125720e+03, 9.315610e+03, 9.505500e+03, 9.695390e+03,\n",
       "        9.885280e+03, 1.007517e+04, 1.026506e+04, 1.045495e+04,\n",
       "        1.064484e+04, 1.083473e+04, 1.102462e+04, 1.121451e+04,\n",
       "        1.140440e+04, 1.159429e+04, 1.178418e+04, 1.197407e+04,\n",
       "        1.216396e+04, 1.235385e+04, 1.254374e+04, 1.273363e+04,\n",
       "        1.292352e+04, 1.311341e+04, 1.330330e+04, 1.349319e+04,\n",
       "        1.368308e+04, 1.387297e+04, 1.406286e+04, 1.425275e+04,\n",
       "        1.444264e+04, 1.463253e+04, 1.482242e+04, 1.501231e+04,\n",
       "        1.520220e+04, 1.539209e+04, 1.558198e+04, 1.577187e+04,\n",
       "        1.596176e+04, 1.615165e+04, 1.634154e+04, 1.653143e+04,\n",
       "        1.672132e+04, 1.691121e+04, 1.710110e+04, 1.729099e+04,\n",
       "        1.748088e+04, 1.767077e+04, 1.786066e+04, 1.805055e+04,\n",
       "        1.824044e+04, 1.843033e+04, 1.862022e+04, 1.881011e+04,\n",
       "        1.900000e+04]),\n",
       " <BarContainer object of 100 artists>)"
      ]
     },
     "execution_count": 102,
     "metadata": {},
     "output_type": "execute_result"
    },
    {
     "data": {
      "image/png": "[encoded data removed]",
      "text/plain": [
       "<Figure size 432x288 with 1 Axes>"
      ]
     },
     "metadata": {
      "needs_background": "light"
     },
     "output_type": "display_data"
    }
   ],
   "source": [
    "plt.hist(df_acts_users[\"Revenue\"], bins=100, log=True)"
   ]
  },
  {
   "cell_type": "code",
   "execution_count": 126,
   "id": "c965fc73",
   "metadata": {},
   "outputs": [
    {
     "data": {
      "text/plain": [
       "(array([7.345e+03, 1.134e+03, 7.930e+02, 6.300e+02, 5.860e+02, 5.610e+02,\n",
       "        4.700e+02, 6.300e+02, 5.320e+02, 4.830e+02, 3.950e+02, 3.630e+02,\n",
       "        2.910e+02, 3.230e+02, 3.420e+02, 2.770e+02, 2.890e+02, 2.790e+02,\n",
       "        3.160e+02, 2.980e+02, 2.820e+02, 3.860e+02, 2.920e+02, 3.240e+02,\n",
       "        3.270e+02, 3.040e+02, 3.070e+02, 3.090e+02, 3.530e+02, 2.810e+02,\n",
       "        2.610e+02, 2.470e+02, 2.420e+02, 2.410e+02, 2.410e+02, 2.420e+02,\n",
       "        1.710e+02, 1.450e+02, 1.450e+02, 1.340e+02, 1.050e+02, 1.180e+02,\n",
       "        1.300e+02, 8.000e+01, 8.100e+01, 6.400e+01, 7.400e+01, 6.800e+01,\n",
       "        4.000e+01, 4.700e+01, 4.500e+01, 3.300e+01, 1.500e+01, 1.200e+01,\n",
       "        8.000e+00, 1.900e+01, 1.100e+01, 5.000e+00, 6.000e+00, 8.000e+00,\n",
       "        1.000e+01, 7.000e+00, 7.000e+00, 3.000e+00, 6.000e+00, 9.000e+00,\n",
       "        4.000e+00, 7.000e+00, 4.000e+00, 4.000e+00, 2.000e+00, 6.000e+00,\n",
       "        8.000e+00, 7.000e+00, 5.000e+00, 2.000e+00, 1.000e+00, 0.000e+00,\n",
       "        1.000e+00, 2.000e+00, 0.000e+00, 1.000e+00, 1.000e+00, 0.000e+00,\n",
       "        0.000e+00, 1.000e+00, 0.000e+00, 1.000e+00, 0.000e+00, 1.000e+00,\n",
       "        0.000e+00, 0.000e+00, 1.000e+00, 0.000e+00, 0.000e+00, 0.000e+00,\n",
       "        0.000e+00, 0.000e+00, 0.000e+00, 1.000e+00]),\n",
       " array([  0.  ,   6.14,  12.28,  18.42,  24.56,  30.7 ,  36.84,  42.98,\n",
       "         49.12,  55.26,  61.4 ,  67.54,  73.68,  79.82,  85.96,  92.1 ,\n",
       "         98.24, 104.38, 110.52, 116.66, 122.8 , 128.94, 135.08, 141.22,\n",
       "        147.36, 153.5 , 159.64, 165.78, 171.92, 178.06, 184.2 , 190.34,\n",
       "        196.48, 202.62, 208.76, 214.9 , 221.04, 227.18, 233.32, 239.46,\n",
       "        245.6 , 251.74, 257.88, 264.02, 270.16, 276.3 , 282.44, 288.58,\n",
       "        294.72, 300.86, 307.  , 313.14, 319.28, 325.42, 331.56, 337.7 ,\n",
       "        343.84, 349.98, 356.12, 362.26, 368.4 , 374.54, 380.68, 386.82,\n",
       "        392.96, 399.1 , 405.24, 411.38, 417.52, 423.66, 429.8 , 435.94,\n",
       "        442.08, 448.22, 454.36, 460.5 , 466.64, 472.78, 478.92, 485.06,\n",
       "        491.2 , 497.34, 503.48, 509.62, 515.76, 521.9 , 528.04, 534.18,\n",
       "        540.32, 546.46, 552.6 , 558.74, 564.88, 571.02, 577.16, 583.3 ,\n",
       "        589.44, 595.58, 601.72, 607.86, 614.  ]),\n",
       " <BarContainer object of 100 artists>)"
      ]
     },
     "execution_count": 126,
     "metadata": {},
     "output_type": "execute_result"
    },
    {
     "data": {
      "image/png": "[encoded data removed]",
      "text/plain": [
       "<Figure size 432x288 with 1 Axes>"
      ]
     },
     "metadata": {
      "needs_background": "light"
     },
     "output_type": "display_data"
    }
   ],
   "source": [
    "# histogram of days between reg and date\n",
    "plt.hist(df_acts_users[\"DaysRegtoDate\"] / pd.Timedelta(1, unit='d'), bins=100)"
   ]
  },
  {
   "cell_type": "code",
   "execution_count": 114,
   "id": "60a94646",
   "metadata": {},
   "outputs": [],
   "source": [
    "df_acts_one_week = df_acts_users.loc[df_acts_users.loc[:,\"DaysRegtoDate\"] < pd.Timedelta(7,'D'),:]"
   ]
  },
  {
   "cell_type": "code",
   "execution_count": 117,
   "id": "082233a5",
   "metadata": {},
   "outputs": [
    {
     "data": {
      "text/plain": [
       "131.2853274336288"
      ]
     },
     "execution_count": 117,
     "metadata": {},
     "output_type": "execute_result"
    }
   ],
   "source": [
    "df_acts_one_week[\"Revenue\"].mean()"
   ]
  },
  {
   "cell_type": "code",
   "execution_count": 118,
   "id": "0fe37d80",
   "metadata": {
    "scrolled": true
   },
   "outputs": [
    {
     "data": {
      "text/plain": [
       "42.63"
      ]
     },
     "execution_count": 118,
     "metadata": {},
     "output_type": "execute_result"
    }
   ],
   "source": [
    "df_acts_one_week[\"Revenue\"].median()"
   ]
  },
  {
   "cell_type": "markdown",
   "id": "fe00167f",
   "metadata": {},
   "source": [
    "## Block B"
   ]
  },
  {
   "cell_type": "code",
   "execution_count": 132,
   "id": "aa6b68ad",
   "metadata": {},
   "outputs": [
    {
     "data": {
      "text/html": [
       "<div>\n",
       "<style scoped>\n",
       "    .dataframe tbody tr th:only-of-type {\n",
       "        vertical-align: middle;\n",
       "    }\n",
       "\n",
       "    .dataframe tbody tr th {\n",
       "        vertical-align: top;\n",
       "    }\n",
       "\n",
       "    .dataframe thead th {\n",
       "        text-align: right;\n",
       "    }\n",
       "</style>\n",
       "<table border=\"1\" class=\"dataframe\">\n",
       "  <thead>\n",
       "    <tr style=\"text-align: right;\">\n",
       "      <th></th>\n",
       "      <th>Gender</th>\n",
       "      <th>Revenue</th>\n",
       "    </tr>\n",
       "  </thead>\n",
       "  <tbody>\n",
       "    <tr>\n",
       "      <th>0</th>\n",
       "      <td>F</td>\n",
       "      <td>102.492762</td>\n",
       "    </tr>\n",
       "    <tr>\n",
       "      <th>1</th>\n",
       "      <td>M</td>\n",
       "      <td>143.921557</td>\n",
       "    </tr>\n",
       "  </tbody>\n",
       "</table>\n",
       "</div>"
      ],
      "text/plain": [
       "  Gender     Revenue\n",
       "0      F  102.492762\n",
       "1      M  143.921557"
      ]
     },
     "execution_count": 132,
     "metadata": {},
     "output_type": "execute_result"
    }
   ],
   "source": [
    "# full time period\n",
    "df_acts_users.groupby(\"Gender\").agg(\"mean\").drop(\"UserId\", axis=\"columns\").reset_index()"
   ]
  },
  {
   "cell_type": "code",
   "execution_count": 133,
   "id": "76916a7b",
   "metadata": {},
   "outputs": [
    {
     "data": {
      "text/html": [
       "<div>\n",
       "<style scoped>\n",
       "    .dataframe tbody tr th:only-of-type {\n",
       "        vertical-align: middle;\n",
       "    }\n",
       "\n",
       "    .dataframe tbody tr th {\n",
       "        vertical-align: top;\n",
       "    }\n",
       "\n",
       "    .dataframe thead th {\n",
       "        text-align: right;\n",
       "    }\n",
       "</style>\n",
       "<table border=\"1\" class=\"dataframe\">\n",
       "  <thead>\n",
       "    <tr style=\"text-align: right;\">\n",
       "      <th></th>\n",
       "      <th>Gender</th>\n",
       "      <th>Revenue</th>\n",
       "    </tr>\n",
       "  </thead>\n",
       "  <tbody>\n",
       "    <tr>\n",
       "      <th>0</th>\n",
       "      <td>F</td>\n",
       "      <td>112.653657</td>\n",
       "    </tr>\n",
       "    <tr>\n",
       "      <th>1</th>\n",
       "      <td>M</td>\n",
       "      <td>137.196272</td>\n",
       "    </tr>\n",
       "  </tbody>\n",
       "</table>\n",
       "</div>"
      ],
      "text/plain": [
       "  Gender     Revenue\n",
       "0      F  112.653657\n",
       "1      M  137.196272"
      ]
     },
     "execution_count": 133,
     "metadata": {},
     "output_type": "execute_result"
    }
   ],
   "source": [
    "# one week since registration\n",
    "df_acts_one_week.groupby(\"Gender\").agg(\"mean\").drop(\"UserId\", axis=\"columns\").reset_index()"
   ]
  },
  {
   "cell_type": "code",
   "execution_count": 142,
   "id": "c070d5e2",
   "metadata": {},
   "outputs": [],
   "source": [
    "import numpy as np"
   ]
  },
  {
   "cell_type": "code",
   "execution_count": 146,
   "id": "28dd0695",
   "metadata": {},
   "outputs": [
    {
     "data": {
      "text/html": [
       "<div>\n",
       "<style scoped>\n",
       "    .dataframe tbody tr th:only-of-type {\n",
       "        vertical-align: middle;\n",
       "    }\n",
       "\n",
       "    .dataframe tbody tr th {\n",
       "        vertical-align: top;\n",
       "    }\n",
       "\n",
       "    .dataframe thead th {\n",
       "        text-align: right;\n",
       "    }\n",
       "</style>\n",
       "<table border=\"1\" class=\"dataframe\">\n",
       "  <thead>\n",
       "    <tr style=\"text-align: right;\">\n",
       "      <th></th>\n",
       "      <th>Gender</th>\n",
       "      <th>Revenue</th>\n",
       "    </tr>\n",
       "  </thead>\n",
       "  <tbody>\n",
       "    <tr>\n",
       "      <th>0</th>\n",
       "      <td>F</td>\n",
       "      <td>370.411594</td>\n",
       "    </tr>\n",
       "    <tr>\n",
       "      <th>1</th>\n",
       "      <td>M</td>\n",
       "      <td>396.771341</td>\n",
       "    </tr>\n",
       "  </tbody>\n",
       "</table>\n",
       "</div>"
      ],
      "text/plain": [
       "  Gender     Revenue\n",
       "0      F  370.411594\n",
       "1      M  396.771341"
      ]
     },
     "execution_count": 146,
     "metadata": {},
     "output_type": "execute_result"
    }
   ],
   "source": [
    "df_acts_one_week.groupby(\"Gender\").agg(np.std, ddof=0).reset_index()[[\"Gender\", \"Revenue\"]]"
   ]
  },
  {
   "cell_type": "code",
   "execution_count": 137,
   "id": "83c1e520",
   "metadata": {},
   "outputs": [
    {
     "data": {
      "text/plain": [
       "M    5576\n",
       "F    1769\n",
       "Name: Gender, dtype: int64"
      ]
     },
     "execution_count": 137,
     "metadata": {},
     "output_type": "execute_result"
    }
   ],
   "source": [
    "df_acts_one_week[\"Gender\"].value_counts()"
   ]
  },
  {
   "cell_type": "code",
   "execution_count": 166,
   "id": "a41ea017",
   "metadata": {},
   "outputs": [],
   "source": [
    "from statsmodels.stats.weightstats import ztest\n",
    "from statsmodels.stats.weightstats import CompareMeans"
   ]
  },
  {
   "cell_type": "code",
   "execution_count": 176,
   "id": "46df0e45",
   "metadata": {},
   "outputs": [],
   "source": [
    "males = df_acts_one_week.loc[df_acts_one_week[\"Gender\"] == \"M\",\"Revenue\"]"
   ]
  },
  {
   "cell_type": "code",
   "execution_count": 178,
   "id": "b3e3fc11",
   "metadata": {},
   "outputs": [],
   "source": [
    "females = df_acts_one_week.loc[df_acts_one_week[\"Gender\"] == \"F\",\"Revenue\"]"
   ]
  },
  {
   "cell_type": "code",
   "execution_count": 205,
   "id": "73344283",
   "metadata": {},
   "outputs": [
    {
     "name": "stdout",
     "output_type": "stream",
     "text": [
      "For test of null hypothesis that means are equal, p-value is 0.02131433312849818, reject null that means are equal\n"
     ]
    }
   ],
   "source": [
    "print(f\"For test of null hypothesis that means are equal, p-value is {ztest(x1=males, x2=females)[1]}, reject null that means are equal\")"
   ]
  },
  {
   "cell_type": "code",
   "execution_count": null,
   "id": "29ee8e72",
   "metadata": {},
   "outputs": [],
   "source": [
    "# assume standard deviations are different?"
   ]
  },
  {
   "cell_type": "code",
   "execution_count": 212,
   "id": "18c575f4",
   "metadata": {},
   "outputs": [],
   "source": [
    "df_country_diffs = df_acts_one_week.groupby([\"Country\", \"Gender\"]).agg(\"mean\").reset_index()[[\"Gender\", \"Country\", \"Revenue\"]]"
   ]
  },
  {
   "cell_type": "code",
   "execution_count": 213,
   "id": "6ef0a5c4",
   "metadata": {},
   "outputs": [
    {
     "data": {
      "text/html": [
       "<div>\n",
       "<style scoped>\n",
       "    .dataframe tbody tr th:only-of-type {\n",
       "        vertical-align: middle;\n",
       "    }\n",
       "\n",
       "    .dataframe tbody tr th {\n",
       "        vertical-align: top;\n",
       "    }\n",
       "\n",
       "    .dataframe thead th {\n",
       "        text-align: right;\n",
       "    }\n",
       "</style>\n",
       "<table border=\"1\" class=\"dataframe\">\n",
       "  <thead>\n",
       "    <tr style=\"text-align: right;\">\n",
       "      <th></th>\n",
       "      <th>Gender</th>\n",
       "      <th>Country</th>\n",
       "      <th>Revenue</th>\n",
       "    </tr>\n",
       "  </thead>\n",
       "  <tbody>\n",
       "    <tr>\n",
       "      <th>0</th>\n",
       "      <td>F</td>\n",
       "      <td>DE</td>\n",
       "      <td>87.698019</td>\n",
       "    </tr>\n",
       "    <tr>\n",
       "      <th>1</th>\n",
       "      <td>M</td>\n",
       "      <td>DE</td>\n",
       "      <td>110.190044</td>\n",
       "    </tr>\n",
       "    <tr>\n",
       "      <th>2</th>\n",
       "      <td>F</td>\n",
       "      <td>FR</td>\n",
       "      <td>133.803396</td>\n",
       "    </tr>\n",
       "    <tr>\n",
       "      <th>3</th>\n",
       "      <td>M</td>\n",
       "      <td>FR</td>\n",
       "      <td>169.612649</td>\n",
       "    </tr>\n",
       "    <tr>\n",
       "      <th>4</th>\n",
       "      <td>F</td>\n",
       "      <td>GB</td>\n",
       "      <td>137.221082</td>\n",
       "    </tr>\n",
       "    <tr>\n",
       "      <th>5</th>\n",
       "      <td>M</td>\n",
       "      <td>GB</td>\n",
       "      <td>147.662370</td>\n",
       "    </tr>\n",
       "    <tr>\n",
       "      <th>6</th>\n",
       "      <td>F</td>\n",
       "      <td>Other</td>\n",
       "      <td>63.176622</td>\n",
       "    </tr>\n",
       "    <tr>\n",
       "      <th>7</th>\n",
       "      <td>M</td>\n",
       "      <td>Other</td>\n",
       "      <td>104.133588</td>\n",
       "    </tr>\n",
       "    <tr>\n",
       "      <th>8</th>\n",
       "      <td>F</td>\n",
       "      <td>US</td>\n",
       "      <td>85.753758</td>\n",
       "    </tr>\n",
       "    <tr>\n",
       "      <th>9</th>\n",
       "      <td>M</td>\n",
       "      <td>US</td>\n",
       "      <td>143.903677</td>\n",
       "    </tr>\n",
       "  </tbody>\n",
       "</table>\n",
       "</div>"
      ],
      "text/plain": [
       "  Gender Country     Revenue\n",
       "0      F      DE   87.698019\n",
       "1      M      DE  110.190044\n",
       "2      F      FR  133.803396\n",
       "3      M      FR  169.612649\n",
       "4      F      GB  137.221082\n",
       "5      M      GB  147.662370\n",
       "6      F   Other   63.176622\n",
       "7      M   Other  104.133588\n",
       "8      F      US   85.753758\n",
       "9      M      US  143.903677"
      ]
     },
     "execution_count": 213,
     "metadata": {},
     "output_type": "execute_result"
    }
   ],
   "source": [
    "df_country_diffs"
   ]
  },
  {
   "cell_type": "code",
   "execution_count": 233,
   "id": "1e45c2a4",
   "metadata": {},
   "outputs": [],
   "source": [
    "df_pivot = df_country_diffs.pivot(index=\"Country\", columns=\"Gender\").reset_index()\n",
    "df_pivot.columns = [\"Country\", \"RevenueFemale\", \"RevenueMale\"]"
   ]
  },
  {
   "cell_type": "code",
   "execution_count": 234,
   "id": "6ab7d979",
   "metadata": {},
   "outputs": [],
   "source": [
    "df_pivot[\"Delta\"] = df_pivot[\"RevenueMale\"] - df_pivot[\"RevenueFemale\"]"
   ]
  },
  {
   "cell_type": "code",
   "execution_count": 244,
   "id": "a86ee4a5",
   "metadata": {},
   "outputs": [
    {
     "data": {
      "text/html": [
       "<div>\n",
       "<style scoped>\n",
       "    .dataframe tbody tr th:only-of-type {\n",
       "        vertical-align: middle;\n",
       "    }\n",
       "\n",
       "    .dataframe tbody tr th {\n",
       "        vertical-align: top;\n",
       "    }\n",
       "\n",
       "    .dataframe thead th {\n",
       "        text-align: right;\n",
       "    }\n",
       "</style>\n",
       "<table border=\"1\" class=\"dataframe\">\n",
       "  <thead>\n",
       "    <tr style=\"text-align: right;\">\n",
       "      <th></th>\n",
       "      <th>Country</th>\n",
       "      <th>RevenueFemale</th>\n",
       "      <th>RevenueMale</th>\n",
       "      <th>Delta</th>\n",
       "    </tr>\n",
       "  </thead>\n",
       "  <tbody>\n",
       "    <tr>\n",
       "      <th>0</th>\n",
       "      <td>DE</td>\n",
       "      <td>87.698019</td>\n",
       "      <td>110.190044</td>\n",
       "      <td>22.492025</td>\n",
       "    </tr>\n",
       "    <tr>\n",
       "      <th>1</th>\n",
       "      <td>FR</td>\n",
       "      <td>133.803396</td>\n",
       "      <td>169.612649</td>\n",
       "      <td>35.809253</td>\n",
       "    </tr>\n",
       "    <tr>\n",
       "      <th>2</th>\n",
       "      <td>GB</td>\n",
       "      <td>137.221082</td>\n",
       "      <td>147.662370</td>\n",
       "      <td>10.441289</td>\n",
       "    </tr>\n",
       "    <tr>\n",
       "      <th>3</th>\n",
       "      <td>Other</td>\n",
       "      <td>63.176622</td>\n",
       "      <td>104.133588</td>\n",
       "      <td>40.956966</td>\n",
       "    </tr>\n",
       "    <tr>\n",
       "      <th>4</th>\n",
       "      <td>US</td>\n",
       "      <td>85.753758</td>\n",
       "      <td>143.903677</td>\n",
       "      <td>58.149919</td>\n",
       "    </tr>\n",
       "  </tbody>\n",
       "</table>\n",
       "</div>"
      ],
      "text/plain": [
       "  Country  RevenueFemale  RevenueMale      Delta\n",
       "0      DE      87.698019   110.190044  22.492025\n",
       "1      FR     133.803396   169.612649  35.809253\n",
       "2      GB     137.221082   147.662370  10.441289\n",
       "3   Other      63.176622   104.133588  40.956966\n",
       "4      US      85.753758   143.903677  58.149919"
      ]
     },
     "execution_count": 244,
     "metadata": {},
     "output_type": "execute_result"
    }
   ],
   "source": [
    "df_pivot"
   ]
  },
  {
   "cell_type": "code",
   "execution_count": 258,
   "id": "0ca1f0b3",
   "metadata": {},
   "outputs": [],
   "source": [
    "country = df_pivot.loc[df_pivot[\"Delta\"] == df_pivot[\"Delta\"].max(),\"Country\"]"
   ]
  },
  {
   "cell_type": "code",
   "execution_count": 263,
   "id": "59119896",
   "metadata": {},
   "outputs": [
    {
     "name": "stdout",
     "output_type": "stream",
     "text": [
      "Country with biggest gender difference for revenue is US\n"
     ]
    }
   ],
   "source": [
    "print(f\"Country with biggest gender difference for revenue is {np.array(country)[0]}\")"
   ]
  },
  {
   "cell_type": "markdown",
   "id": "533d0316",
   "metadata": {},
   "source": [
    "### Linear Regression Model"
   ]
  },
  {
   "cell_type": "code",
   "execution_count": null,
   "id": "e3336377",
   "metadata": {},
   "outputs": [],
   "source": []
  }
 ],
 "metadata": {
  "kernelspec": {
   "display_name": "Python 3",
   "language": "python",
   "name": "python3"
  },
  "language_info": {
   "codemirror_mode": {
    "name": "ipython",
    "version": 3
   },
   "file_extension": ".py",
   "mimetype": "text/x-python",
   "name": "python",
   "nbconvert_exporter": "python",
   "pygments_lexer": "ipython3",
   "version": "3.8.8"
  }
 },
 "nbformat": 4,
 "nbformat_minor": 5
}
